{
  "nbformat": 4,
  "nbformat_minor": 5,
  "metadata": {
    "kernelspec": {
      "display_name": "Python 3 (ipykernel)",
      "language": "python",
      "name": "python3"
    },
    "language_info": {
      "codemirror_mode": {
        "name": "ipython",
        "version": 3
      },
      "file_extension": ".py",
      "mimetype": "text/x-python",
      "name": "python",
      "nbconvert_exporter": "python",
      "pygments_lexer": "ipython3",
      "version": "3.8.10"
    },
    "colab": {
      "name": "AbusiveLanguage.ipynb",
      "provenance": []
    }
  },
  "cells": [
    {
      "cell_type": "code",
      "metadata": {
        "id": "014338a7"
      },
      "source": [
        "from sklearn.feature_extraction.text import TfidfVectorizer\n",
        "import pandas as pd\n",
        "from sklearn.model_selection import train_test_split\n",
        "from sklearn.ensemble import RandomForestClassifier\n",
        "from sklearn.linear_model import LogisticRegression"
      ],
      "id": "014338a7",
      "execution_count": null,
      "outputs": []
    },
    {
      "cell_type": "code",
      "metadata": {
        "colab": {
          "base_uri": "https://localhost:8080/"
        },
        "id": "SN_wC13FwxIF",
        "outputId": "643ccc76-4dac-45b5-cb37-69bc9f269bb0"
      },
      "source": [
        "!pip install catboost"
      ],
      "id": "SN_wC13FwxIF",
      "execution_count": null,
      "outputs": [
        {
          "output_type": "stream",
          "name": "stdout",
          "text": [
            "Requirement already satisfied: catboost in /usr/local/lib/python3.7/dist-packages (1.0.3)\n",
            "Requirement already satisfied: six in /usr/local/lib/python3.7/dist-packages (from catboost) (1.15.0)\n",
            "Requirement already satisfied: pandas>=0.24.0 in /usr/local/lib/python3.7/dist-packages (from catboost) (1.1.5)\n",
            "Requirement already satisfied: matplotlib in /usr/local/lib/python3.7/dist-packages (from catboost) (3.2.2)\n",
            "Requirement already satisfied: numpy>=1.16.0 in /usr/local/lib/python3.7/dist-packages (from catboost) (1.19.5)\n",
            "Requirement already satisfied: graphviz in /usr/local/lib/python3.7/dist-packages (from catboost) (0.10.1)\n",
            "Requirement already satisfied: scipy in /usr/local/lib/python3.7/dist-packages (from catboost) (1.4.1)\n",
            "Requirement already satisfied: plotly in /usr/local/lib/python3.7/dist-packages (from catboost) (4.4.1)\n",
            "Requirement already satisfied: python-dateutil>=2.7.3 in /usr/local/lib/python3.7/dist-packages (from pandas>=0.24.0->catboost) (2.8.2)\n",
            "Requirement already satisfied: pytz>=2017.2 in /usr/local/lib/python3.7/dist-packages (from pandas>=0.24.0->catboost) (2018.9)\n",
            "Requirement already satisfied: kiwisolver>=1.0.1 in /usr/local/lib/python3.7/dist-packages (from matplotlib->catboost) (1.3.2)\n",
            "Requirement already satisfied: pyparsing!=2.0.4,!=2.1.2,!=2.1.6,>=2.0.1 in /usr/local/lib/python3.7/dist-packages (from matplotlib->catboost) (3.0.6)\n",
            "Requirement already satisfied: cycler>=0.10 in /usr/local/lib/python3.7/dist-packages (from matplotlib->catboost) (0.11.0)\n",
            "Requirement already satisfied: retrying>=1.3.3 in /usr/local/lib/python3.7/dist-packages (from plotly->catboost) (1.3.3)\n"
          ]
        }
      ]
    },
    {
      "cell_type": "code",
      "metadata": {
        "colab": {
          "base_uri": "https://localhost:8080/"
        },
        "id": "Xoh-CiMVw2C7",
        "outputId": "b7ab1eb8-dc34-415d-c8cb-9a4ff2287a4f"
      },
      "source": [
        "!pip install xgboost"
      ],
      "id": "Xoh-CiMVw2C7",
      "execution_count": null,
      "outputs": [
        {
          "output_type": "stream",
          "name": "stdout",
          "text": [
            "Requirement already satisfied: xgboost in /usr/local/lib/python3.7/dist-packages (0.90)\n",
            "Requirement already satisfied: numpy in /usr/local/lib/python3.7/dist-packages (from xgboost) (1.19.5)\n",
            "Requirement already satisfied: scipy in /usr/local/lib/python3.7/dist-packages (from xgboost) (1.4.1)\n"
          ]
        }
      ]
    },
    {
      "cell_type": "code",
      "metadata": {
        "id": "5e1552ae"
      },
      "source": [
        "df = pd.read_csv(\"/content/Dataset_Abusive_Tweets.csv\")"
      ],
      "id": "5e1552ae",
      "execution_count": null,
      "outputs": []
    },
    {
      "cell_type": "code",
      "metadata": {
        "colab": {
          "base_uri": "https://localhost:8080/",
          "height": 206
        },
        "id": "bd066426",
        "outputId": "fa453b58-ffbd-4390-df5e-f034633727cc"
      },
      "source": [
        "df.head()"
      ],
      "id": "bd066426",
      "execution_count": null,
      "outputs": [
        {
          "output_type": "execute_result",
          "data": {
            "text/html": [
              "<div>\n",
              "<style scoped>\n",
              "    .dataframe tbody tr th:only-of-type {\n",
              "        vertical-align: middle;\n",
              "    }\n",
              "\n",
              "    .dataframe tbody tr th {\n",
              "        vertical-align: top;\n",
              "    }\n",
              "\n",
              "    .dataframe thead th {\n",
              "        text-align: right;\n",
              "    }\n",
              "</style>\n",
              "<table border=\"1\" class=\"dataframe\">\n",
              "  <thead>\n",
              "    <tr style=\"text-align: right;\">\n",
              "      <th></th>\n",
              "      <th>Unnamed: 0</th>\n",
              "      <th>Score</th>\n",
              "      <th>Tweets</th>\n",
              "    </tr>\n",
              "  </thead>\n",
              "  <tbody>\n",
              "    <tr>\n",
              "      <th>0</th>\n",
              "      <td>0</td>\n",
              "      <td>0</td>\n",
              "      <td>haa jaise tum bhi abhi</td>\n",
              "    </tr>\n",
              "    <tr>\n",
              "      <th>1</th>\n",
              "      <td>1</td>\n",
              "      <td>2</td>\n",
              "      <td>banti hai empowered woman feminism pe gyan pel...</td>\n",
              "    </tr>\n",
              "    <tr>\n",
              "      <th>2</th>\n",
              "      <td>2</td>\n",
              "      <td>2</td>\n",
              "      <td>rt ab usko chhod mjse bat kr tera baap aa gya ...</td>\n",
              "    </tr>\n",
              "    <tr>\n",
              "      <th>3</th>\n",
              "      <td>3</td>\n",
              "      <td>2</td>\n",
              "      <td>punjab in madarchodon ko khila raha hai nokria...</td>\n",
              "    </tr>\n",
              "    <tr>\n",
              "      <th>4</th>\n",
              "      <td>4</td>\n",
              "      <td>2</td>\n",
              "      <td>rt agar koi bole ki ja ke chill maar to madarc...</td>\n",
              "    </tr>\n",
              "  </tbody>\n",
              "</table>\n",
              "</div>"
            ],
            "text/plain": [
              "   Unnamed: 0  Score                                             Tweets\n",
              "0           0      0                             haa jaise tum bhi abhi\n",
              "1           1      2  banti hai empowered woman feminism pe gyan pel...\n",
              "2           2      2  rt ab usko chhod mjse bat kr tera baap aa gya ...\n",
              "3           3      2  punjab in madarchodon ko khila raha hai nokria...\n",
              "4           4      2  rt agar koi bole ki ja ke chill maar to madarc..."
            ]
          },
          "metadata": {},
          "execution_count": 78
        }
      ]
    },
    {
      "cell_type": "code",
      "metadata": {
        "id": "e55d0127"
      },
      "source": [
        "df=df.iloc[:,1:]"
      ],
      "id": "e55d0127",
      "execution_count": null,
      "outputs": []
    },
    {
      "cell_type": "code",
      "metadata": {
        "colab": {
          "base_uri": "https://localhost:8080/"
        },
        "id": "8ae2832f",
        "outputId": "62de0523-5c0b-42d3-b41c-848e750943b6"
      },
      "source": [
        "df.isnull().sum()"
      ],
      "id": "8ae2832f",
      "execution_count": null,
      "outputs": [
        {
          "output_type": "execute_result",
          "data": {
            "text/plain": [
              "Score      0\n",
              "Tweets    97\n",
              "dtype: int64"
            ]
          },
          "metadata": {},
          "execution_count": 80
        }
      ]
    },
    {
      "cell_type": "code",
      "metadata": {
        "id": "be8042a7"
      },
      "source": [
        "df.dropna(inplace=True)"
      ],
      "id": "be8042a7",
      "execution_count": null,
      "outputs": []
    },
    {
      "cell_type": "code",
      "metadata": {
        "colab": {
          "base_uri": "https://localhost:8080/",
          "height": 423
        },
        "id": "544f1877",
        "outputId": "351f7e4a-d632-4d8c-82ff-9816cf8f7915"
      },
      "source": [
        "df"
      ],
      "id": "544f1877",
      "execution_count": null,
      "outputs": [
        {
          "output_type": "execute_result",
          "data": {
            "text/html": [
              "<div>\n",
              "<style scoped>\n",
              "    .dataframe tbody tr th:only-of-type {\n",
              "        vertical-align: middle;\n",
              "    }\n",
              "\n",
              "    .dataframe tbody tr th {\n",
              "        vertical-align: top;\n",
              "    }\n",
              "\n",
              "    .dataframe thead th {\n",
              "        text-align: right;\n",
              "    }\n",
              "</style>\n",
              "<table border=\"1\" class=\"dataframe\">\n",
              "  <thead>\n",
              "    <tr style=\"text-align: right;\">\n",
              "      <th></th>\n",
              "      <th>Score</th>\n",
              "      <th>Tweets</th>\n",
              "    </tr>\n",
              "  </thead>\n",
              "  <tbody>\n",
              "    <tr>\n",
              "      <th>0</th>\n",
              "      <td>0</td>\n",
              "      <td>haa jaise tum bhi abhi</td>\n",
              "    </tr>\n",
              "    <tr>\n",
              "      <th>1</th>\n",
              "      <td>2</td>\n",
              "      <td>banti hai empowered woman feminism pe gyan pel...</td>\n",
              "    </tr>\n",
              "    <tr>\n",
              "      <th>2</th>\n",
              "      <td>2</td>\n",
              "      <td>rt ab usko chhod mjse bat kr tera baap aa gya ...</td>\n",
              "    </tr>\n",
              "    <tr>\n",
              "      <th>3</th>\n",
              "      <td>2</td>\n",
              "      <td>punjab in madarchodon ko khila raha hai nokria...</td>\n",
              "    </tr>\n",
              "    <tr>\n",
              "      <th>4</th>\n",
              "      <td>2</td>\n",
              "      <td>rt agar koi bole ki ja ke chill maar to madarc...</td>\n",
              "    </tr>\n",
              "    <tr>\n",
              "      <th>...</th>\n",
              "      <td>...</td>\n",
              "      <td>...</td>\n",
              "    </tr>\n",
              "    <tr>\n",
              "      <th>3184</th>\n",
              "      <td>1</td>\n",
              "      <td>ye dekha tera islamic kashmiri jihaadi suar bhai</td>\n",
              "    </tr>\n",
              "    <tr>\n",
              "      <th>3185</th>\n",
              "      <td>1</td>\n",
              "      <td>all love jihaadi should ne killed aise hi</td>\n",
              "    </tr>\n",
              "    <tr>\n",
              "      <th>3186</th>\n",
              "      <td>1</td>\n",
              "      <td>ye dekh madarjaat rand ki aullad tera islamic</td>\n",
              "    </tr>\n",
              "    <tr>\n",
              "      <th>3187</th>\n",
              "      <td>1</td>\n",
              "      <td>waise jihaadi kutte ki double maut aane wali hai</td>\n",
              "    </tr>\n",
              "    <tr>\n",
              "      <th>3188</th>\n",
              "      <td>1</td>\n",
              "      <td>kya madam abhi tak apne aapne hindu ya jihaadi...</td>\n",
              "    </tr>\n",
              "  </tbody>\n",
              "</table>\n",
              "<p>3092 rows × 2 columns</p>\n",
              "</div>"
            ],
            "text/plain": [
              "      Score                                             Tweets\n",
              "0         0                             haa jaise tum bhi abhi\n",
              "1         2  banti hai empowered woman feminism pe gyan pel...\n",
              "2         2  rt ab usko chhod mjse bat kr tera baap aa gya ...\n",
              "3         2  punjab in madarchodon ko khila raha hai nokria...\n",
              "4         2  rt agar koi bole ki ja ke chill maar to madarc...\n",
              "...     ...                                                ...\n",
              "3184      1   ye dekha tera islamic kashmiri jihaadi suar bhai\n",
              "3185      1          all love jihaadi should ne killed aise hi\n",
              "3186      1      ye dekh madarjaat rand ki aullad tera islamic\n",
              "3187      1   waise jihaadi kutte ki double maut aane wali hai\n",
              "3188      1  kya madam abhi tak apne aapne hindu ya jihaadi...\n",
              "\n",
              "[3092 rows x 2 columns]"
            ]
          },
          "metadata": {},
          "execution_count": 82
        }
      ]
    },
    {
      "cell_type": "markdown",
      "metadata": {
        "id": "b2e19e3b"
      },
      "source": [
        "## VECTORIZATION"
      ],
      "id": "b2e19e3b"
    },
    {
      "cell_type": "code",
      "metadata": {
        "id": "2a150716"
      },
      "source": [
        "vectorizer = TfidfVectorizer()\n",
        "X = vectorizer.fit_transform(df['Tweets'])"
      ],
      "id": "2a150716",
      "execution_count": null,
      "outputs": []
    },
    {
      "cell_type": "code",
      "metadata": {
        "colab": {
          "base_uri": "https://localhost:8080/"
        },
        "id": "b0fd801c",
        "outputId": "017ecc23-0c9d-438c-ee85-de8dfbbbfdaf"
      },
      "source": [
        "X.get_shape()"
      ],
      "id": "b0fd801c",
      "execution_count": null,
      "outputs": [
        {
          "output_type": "execute_result",
          "data": {
            "text/plain": [
              "(3092, 7644)"
            ]
          },
          "metadata": {},
          "execution_count": 84
        }
      ]
    },
    {
      "cell_type": "code",
      "metadata": {
        "colab": {
          "base_uri": "https://localhost:8080/"
        },
        "id": "ab3f2a35",
        "outputId": "45463654-9144-4786-ed7e-eff69db8b070"
      },
      "source": [
        "df.shape"
      ],
      "id": "ab3f2a35",
      "execution_count": null,
      "outputs": [
        {
          "output_type": "execute_result",
          "data": {
            "text/plain": [
              "(3092, 2)"
            ]
          },
          "metadata": {},
          "execution_count": 85
        }
      ]
    },
    {
      "cell_type": "code",
      "metadata": {
        "id": "b52e79df"
      },
      "source": [
        "X_train, X_test, y_train, y_test = train_test_split(X, df['Score'], test_size=0.2)"
      ],
      "id": "b52e79df",
      "execution_count": null,
      "outputs": []
    },
    {
      "cell_type": "code",
      "metadata": {
        "colab": {
          "base_uri": "https://localhost:8080/"
        },
        "id": "c080fbb8",
        "outputId": "7acda15a-f92e-4c6d-a501-94c7f442e2ac"
      },
      "source": [
        "print(X_train.shape)\n",
        "print(X_test.shape)"
      ],
      "id": "c080fbb8",
      "execution_count": null,
      "outputs": [
        {
          "output_type": "stream",
          "name": "stdout",
          "text": [
            "(2473, 7644)\n",
            "(619, 7644)\n"
          ]
        }
      ]
    },
    {
      "cell_type": "markdown",
      "metadata": {
        "id": "de201cc1"
      },
      "source": [
        "## TRAINING AND TESTING OF MODELS"
      ],
      "id": "de201cc1"
    },
    {
      "cell_type": "markdown",
      "metadata": {
        "id": "8f4aea4c"
      },
      "source": [
        "### 1. RANDOM FOREST"
      ],
      "id": "8f4aea4c"
    },
    {
      "cell_type": "code",
      "metadata": {
        "colab": {
          "base_uri": "https://localhost:8080/"
        },
        "id": "2ac939b4",
        "outputId": "dcc72265-15a8-41a2-b326-7fa7ca2ae06c"
      },
      "source": [
        "rf = RandomForestClassifier()\n",
        "rf.fit(X_train, y_train)"
      ],
      "id": "2ac939b4",
      "execution_count": null,
      "outputs": [
        {
          "output_type": "execute_result",
          "data": {
            "text/plain": [
              "RandomForestClassifier()"
            ]
          },
          "metadata": {},
          "execution_count": 88
        }
      ]
    },
    {
      "cell_type": "code",
      "metadata": {
        "id": "3cda5d22"
      },
      "source": [
        "pred = rf.predict(X_test)"
      ],
      "id": "3cda5d22",
      "execution_count": null,
      "outputs": []
    },
    {
      "cell_type": "code",
      "metadata": {
        "colab": {
          "base_uri": "https://localhost:8080/"
        },
        "id": "24a242d7",
        "outputId": "e45eeff7-a227-4090-e5a1-d711757f8df4"
      },
      "source": [
        "pred"
      ],
      "id": "24a242d7",
      "execution_count": null,
      "outputs": [
        {
          "output_type": "execute_result",
          "data": {
            "text/plain": [
              "array([2, 0, 2, 0, 2, 0, 2, 2, 2, 0, 2, 1, 0, 0, 0, 2, 0, 2, 0, 0, 2, 0,\n",
              "       2, 2, 2, 0, 2, 2, 0, 2, 2, 2, 0, 2, 2, 0, 0, 2, 2, 0, 0, 2, 2, 0,\n",
              "       0, 2, 0, 2, 2, 2, 0, 2, 0, 2, 2, 2, 2, 0, 2, 0, 0, 0, 2, 0, 2, 1,\n",
              "       2, 0, 2, 2, 2, 2, 2, 2, 0, 2, 0, 0, 2, 2, 2, 0, 2, 0, 2, 2, 0, 0,\n",
              "       2, 2, 2, 2, 0, 0, 2, 0, 0, 2, 2, 2, 0, 0, 0, 0, 0, 2, 0, 2, 0, 0,\n",
              "       2, 2, 2, 0, 2, 2, 0, 2, 0, 0, 2, 2, 2, 2, 2, 2, 2, 2, 2, 2, 0, 0,\n",
              "       0, 0, 2, 2, 2, 2, 2, 2, 2, 2, 2, 2, 0, 0, 0, 0, 0, 2, 1, 0, 2, 0,\n",
              "       2, 2, 2, 2, 2, 0, 2, 0, 0, 2, 2, 1, 0, 0, 0, 2, 2, 2, 0, 0, 2, 2,\n",
              "       2, 2, 2, 0, 2, 0, 0, 0, 2, 0, 0, 2, 2, 2, 2, 2, 2, 0, 2, 0, 1, 2,\n",
              "       0, 0, 2, 2, 2, 2, 2, 2, 2, 2, 2, 0, 0, 2, 2, 2, 2, 2, 0, 2, 2, 1,\n",
              "       2, 0, 0, 2, 2, 2, 2, 1, 2, 2, 2, 2, 0, 2, 2, 2, 0, 1, 0, 0, 0, 2,\n",
              "       2, 2, 0, 2, 0, 2, 0, 2, 2, 0, 2, 2, 1, 0, 0, 2, 2, 2, 2, 0, 2, 1,\n",
              "       1, 2, 0, 2, 2, 0, 2, 2, 0, 0, 2, 0, 2, 0, 2, 0, 2, 0, 0, 2, 0, 0,\n",
              "       2, 2, 2, 2, 0, 2, 2, 2, 2, 2, 0, 2, 2, 2, 2, 2, 0, 0, 2, 0, 2, 2,\n",
              "       2, 2, 0, 0, 2, 0, 2, 0, 2, 2, 2, 0, 2, 2, 2, 2, 2, 2, 0, 2, 1, 1,\n",
              "       0, 0, 2, 2, 0, 2, 2, 0, 0, 0, 0, 0, 2, 2, 0, 0, 2, 0, 0, 2, 2, 0,\n",
              "       2, 0, 2, 2, 2, 2, 2, 2, 2, 2, 1, 0, 2, 2, 2, 2, 2, 2, 2, 2, 0, 2,\n",
              "       0, 0, 1, 0, 2, 2, 1, 0, 0, 2, 2, 0, 0, 1, 2, 0, 2, 2, 2, 0, 2, 2,\n",
              "       2, 0, 2, 2, 0, 0, 2, 2, 0, 0, 2, 0, 0, 2, 1, 2, 2, 2, 1, 2, 0, 2,\n",
              "       0, 1, 2, 2, 0, 2, 0, 2, 0, 2, 0, 2, 2, 2, 2, 2, 2, 2, 0, 2, 0, 0,\n",
              "       0, 0, 2, 2, 0, 2, 0, 2, 2, 1, 2, 2, 2, 2, 0, 0, 2, 0, 0, 0, 2, 0,\n",
              "       0, 0, 0, 0, 2, 2, 0, 0, 2, 2, 2, 2, 0, 2, 0, 0, 2, 2, 2, 2, 2, 2,\n",
              "       2, 0, 2, 2, 2, 2, 2, 2, 0, 0, 0, 2, 2, 0, 0, 2, 2, 2, 0, 0, 1, 2,\n",
              "       2, 2, 2, 2, 0, 2, 0, 2, 0, 2, 2, 0, 2, 0, 0, 0, 2, 0, 2, 0, 0, 2,\n",
              "       0, 2, 0, 2, 2, 0, 2, 0, 0, 2, 2, 2, 2, 2, 0, 0, 0, 0, 2, 0, 2, 2,\n",
              "       0, 2, 2, 2, 2, 2, 0, 0, 2, 0, 1, 0, 2, 0, 2, 2, 0, 2, 0, 0, 0, 2,\n",
              "       2, 2, 2, 0, 0, 2, 2, 2, 0, 2, 0, 2, 2, 2, 2, 0, 2, 0, 0, 2, 2, 0,\n",
              "       2, 2, 2, 2, 2, 2, 2, 2, 2, 0, 2, 2, 2, 2, 2, 0, 2, 0, 2, 2, 2, 2,\n",
              "       0, 2, 1])"
            ]
          },
          "metadata": {},
          "execution_count": 90
        }
      ]
    },
    {
      "cell_type": "code",
      "metadata": {
        "colab": {
          "base_uri": "https://localhost:8080/"
        },
        "id": "2f920a04",
        "outputId": "4702bbe8-a235-4087-c563-3883a744536c"
      },
      "source": [
        "y_test"
      ],
      "id": "2f920a04",
      "execution_count": null,
      "outputs": [
        {
          "output_type": "execute_result",
          "data": {
            "text/plain": [
              "916     2\n",
              "1556    0\n",
              "62      2\n",
              "885     2\n",
              "1862    2\n",
              "       ..\n",
              "1185    2\n",
              "44      2\n",
              "2782    0\n",
              "1281    2\n",
              "1447    1\n",
              "Name: Score, Length: 619, dtype: int64"
            ]
          },
          "metadata": {},
          "execution_count": 91
        }
      ]
    },
    {
      "cell_type": "code",
      "metadata": {
        "id": "3931fece"
      },
      "source": [
        "from sklearn.metrics import accuracy_score,confusion_matrix, precision_score, recall_score,f1_score, plot_confusion_matrix"
      ],
      "id": "3931fece",
      "execution_count": null,
      "outputs": []
    },
    {
      "cell_type": "code",
      "metadata": {
        "colab": {
          "base_uri": "https://localhost:8080/"
        },
        "id": "08160fd6",
        "outputId": "d953c77d-bd96-4b2b-e28f-d4459bbd1f9a"
      },
      "source": [
        "accuracy_score(y_test, pred)"
      ],
      "id": "08160fd6",
      "execution_count": null,
      "outputs": [
        {
          "output_type": "execute_result",
          "data": {
            "text/plain": [
              "0.8255250403877221"
            ]
          },
          "metadata": {},
          "execution_count": 93
        }
      ]
    },
    {
      "cell_type": "code",
      "metadata": {
        "colab": {
          "base_uri": "https://localhost:8080/"
        },
        "id": "a2bd2b01",
        "outputId": "4198141b-3e24-4f2b-be79-2d76902bddef"
      },
      "source": [
        "confusion_matrix(y_test,pred)"
      ],
      "id": "a2bd2b01",
      "execution_count": null,
      "outputs": [
        {
          "output_type": "execute_result",
          "data": {
            "text/plain": [
              "array([[174,   5,  30],\n",
              "       [ 17,  18,  16],\n",
              "       [ 39,   1, 319]])"
            ]
          },
          "metadata": {},
          "execution_count": 94
        }
      ]
    },
    {
      "cell_type": "code",
      "metadata": {
        "colab": {
          "base_uri": "https://localhost:8080/"
        },
        "id": "88b1e241",
        "outputId": "e8cf5f1b-3109-46ac-92cf-2e39b1610d72"
      },
      "source": [
        "precision_score(y_test,pred,average=\"weighted\")"
      ],
      "id": "88b1e241",
      "execution_count": null,
      "outputs": [
        {
          "output_type": "execute_result",
          "data": {
            "text/plain": [
              "0.824102112862395"
            ]
          },
          "metadata": {},
          "execution_count": 95
        }
      ]
    },
    {
      "cell_type": "code",
      "metadata": {
        "colab": {
          "base_uri": "https://localhost:8080/"
        },
        "id": "4caea568",
        "outputId": "e4d36607-f4bb-4fa8-8244-cf95d5358d0b"
      },
      "source": [
        "recall_score(y_test,pred,average=\"weighted\")"
      ],
      "id": "4caea568",
      "execution_count": null,
      "outputs": [
        {
          "output_type": "execute_result",
          "data": {
            "text/plain": [
              "0.8255250403877221"
            ]
          },
          "metadata": {},
          "execution_count": 96
        }
      ]
    },
    {
      "cell_type": "code",
      "metadata": {
        "colab": {
          "base_uri": "https://localhost:8080/"
        },
        "id": "f22bac66",
        "outputId": "0b09aad5-afe2-433c-d522-fc1614d0a68d"
      },
      "source": [
        "f1_score(y_test,pred,average=\"weighted\")"
      ],
      "id": "f22bac66",
      "execution_count": null,
      "outputs": [
        {
          "output_type": "execute_result",
          "data": {
            "text/plain": [
              "0.8182760762141869"
            ]
          },
          "metadata": {},
          "execution_count": 97
        }
      ]
    },
    {
      "cell_type": "code",
      "metadata": {
        "colab": {
          "base_uri": "https://localhost:8080/",
          "height": 335
        },
        "id": "7ab66ad0",
        "outputId": "b8bf7ec0-12ee-4c29-a180-7efb30ea183d"
      },
      "source": [
        "from matplotlib import pyplot as plt\n",
        "plot_confusion_matrix(rf, X_test, y_test,cmap=\"Oranges\") \n",
        "plt.savefig(\"RandomForest.png\")\n",
        "plt.show()"
      ],
      "id": "7ab66ad0",
      "execution_count": null,
      "outputs": [
        {
          "output_type": "stream",
          "name": "stderr",
          "text": [
            "/usr/local/lib/python3.7/dist-packages/sklearn/utils/deprecation.py:87: FutureWarning: Function plot_confusion_matrix is deprecated; Function `plot_confusion_matrix` is deprecated in 1.0 and will be removed in 1.2. Use one of the class methods: ConfusionMatrixDisplay.from_predictions or ConfusionMatrixDisplay.from_estimator.\n",
            "  warnings.warn(msg, category=FutureWarning)\n"
          ]
        },
        {
          "output_type": "display_data",
          "data": {
            "image/png": "[encoded data removed]",
            "text/plain": [
              "<Figure size 432x288 with 2 Axes>"
            ]
          },
          "metadata": {
            "needs_background": "light"
          }
        }
      ]
    },
    {
      "cell_type": "markdown",
      "metadata": {
        "id": "8f0ed524"
      },
      "source": [
        "### 2. LOGISTIC REGRESSION"
      ],
      "id": "8f0ed524"
    },
    {
      "cell_type": "code",
      "metadata": {
        "colab": {
          "base_uri": "https://localhost:8080/"
        },
        "id": "228eb18c",
        "outputId": "bf22b0ae-645e-4dac-9da5-52239c492e14"
      },
      "source": [
        "lg = LogisticRegression()\n",
        "lg.fit(X_train, y_train)\n",
        "\n",
        "pred = lg.predict(X_test)\n",
        "\n",
        "accuracy_score(y_test, pred)"
      ],
      "id": "228eb18c",
      "execution_count": null,
      "outputs": [
        {
          "output_type": "execute_result",
          "data": {
            "text/plain": [
              "0.8352180936995154"
            ]
          },
          "metadata": {},
          "execution_count": 99
        }
      ]
    },
    {
      "cell_type": "code",
      "metadata": {
        "colab": {
          "base_uri": "https://localhost:8080/"
        },
        "id": "d33ec62c",
        "outputId": "27a81f2e-b200-4fe9-ea96-e76006df6326"
      },
      "source": [
        "confusion_matrix(y_test,pred)"
      ],
      "id": "d33ec62c",
      "execution_count": null,
      "outputs": [
        {
          "output_type": "execute_result",
          "data": {
            "text/plain": [
              "array([[164,   4,  41],\n",
              "       [ 16,  15,  20],\n",
              "       [ 21,   0, 338]])"
            ]
          },
          "metadata": {},
          "execution_count": 100
        }
      ]
    },
    {
      "cell_type": "code",
      "metadata": {
        "colab": {
          "base_uri": "https://localhost:8080/"
        },
        "id": "1e5b419f",
        "outputId": "90c5b22b-9fbe-4545-909b-53d3071a407a"
      },
      "source": [
        "precision_score(y_test,pred,average=\"weighted\")"
      ],
      "id": "1e5b419f",
      "execution_count": null,
      "outputs": [
        {
          "output_type": "execute_result",
          "data": {
            "text/plain": [
              "0.8318349100151338"
            ]
          },
          "metadata": {},
          "execution_count": 101
        }
      ]
    },
    {
      "cell_type": "code",
      "metadata": {
        "colab": {
          "base_uri": "https://localhost:8080/"
        },
        "id": "31d8ec6e",
        "outputId": "d876c0ba-8cf3-4231-caf2-ff6286cdfb7f"
      },
      "source": [
        "recall_score(y_test,pred,average=\"weighted\")"
      ],
      "id": "31d8ec6e",
      "execution_count": null,
      "outputs": [
        {
          "output_type": "execute_result",
          "data": {
            "text/plain": [
              "0.8352180936995154"
            ]
          },
          "metadata": {},
          "execution_count": 102
        }
      ]
    },
    {
      "cell_type": "code",
      "metadata": {
        "colab": {
          "base_uri": "https://localhost:8080/"
        },
        "id": "2847c339",
        "outputId": "5c54ec2f-e0d0-4d63-f507-b89b388b0fc2"
      },
      "source": [
        "f1_score(y_test,pred,average=\"weighted\")"
      ],
      "id": "2847c339",
      "execution_count": null,
      "outputs": [
        {
          "output_type": "execute_result",
          "data": {
            "text/plain": [
              "0.8226506159089568"
            ]
          },
          "metadata": {},
          "execution_count": 103
        }
      ]
    },
    {
      "cell_type": "code",
      "metadata": {
        "colab": {
          "base_uri": "https://localhost:8080/"
        },
        "id": "9f0334de",
        "outputId": "9a7073b2-5f70-4d74-b221-891fa7a8afda"
      },
      "source": [
        "from matplotlib import pyplot as plt\n",
        "plot_confusion_matrix(lg, X_test, y_test,cmap=\"Oranges\") \n",
        "plt.savefig(\"LogisticRegression.png\")\n",
        "plt.show()"
      ],
      "id": "9f0334de",
      "execution_count": null,
      "outputs": [
        {
          "output_type": "stream",
          "name": "stderr",
          "text": [
            "/usr/local/lib/python3.7/dist-packages/sklearn/utils/deprecation.py:87: FutureWarning: Function plot_confusion_matrix is deprecated; Function `plot_confusion_matrix` is deprecated in 1.0 and will be removed in 1.2. Use one of the class methods: ConfusionMatrixDisplay.from_predictions or ConfusionMatrixDisplay.from_estimator.\n",
            "  warnings.warn(msg, category=FutureWarning)\n"
          ]
        },
        {
          "output_type": "display_data",
          "data": {
            "image/png": "[encoded data removed]",
            "text/plain": [
              "<Figure size 432x288 with 2 Axes>"
            ]
          },
          "metadata": {
            "needs_background": "light"
          }
        }
      ]
    },
    {
      "cell_type": "markdown",
      "metadata": {
        "id": "5bdfe23c"
      },
      "source": [
        "### 3. SUPPORT VECTOR MACHINE"
      ],
      "id": "5bdfe23c"
    },
    {
      "cell_type": "code",
      "metadata": {
        "id": "019d0073"
      },
      "source": [
        "from sklearn import svm"
      ],
      "id": "019d0073",
      "execution_count": null,
      "outputs": []
    },
    {
      "cell_type": "code",
      "metadata": {
        "id": "bbad2115"
      },
      "source": [
        "clf=svm.SVC()\n",
        "clf.fit(X_train,y_train)\n",
        "pred=clf.predict(X_test)"
      ],
      "id": "bbad2115",
      "execution_count": null,
      "outputs": []
    },
    {
      "cell_type": "code",
      "metadata": {
        "colab": {
          "base_uri": "https://localhost:8080/"
        },
        "id": "ecbe0575",
        "outputId": "a49d514f-cf60-456c-e459-a92a32e81d8d"
      },
      "source": [
        "accuracy_score(y_test,pred)"
      ],
      "id": "ecbe0575",
      "execution_count": null,
      "outputs": [
        {
          "output_type": "execute_result",
          "data": {
            "text/plain": [
              "0.8303715670436187"
            ]
          },
          "metadata": {},
          "execution_count": 107
        }
      ]
    },
    {
      "cell_type": "code",
      "metadata": {
        "colab": {
          "base_uri": "https://localhost:8080/"
        },
        "id": "ab96d961",
        "outputId": "ffdd3e58-645e-4fdd-e3b7-236568292362"
      },
      "source": [
        "plot_confusion_matrix(clf, X_test, y_test,cmap=\"Oranges\") \n",
        "plt.savefig(\"SupportVectorMachine.png\")\n",
        "plt.show()"
      ],
      "id": "ab96d961",
      "execution_count": null,
      "outputs": [
        {
          "output_type": "stream",
          "name": "stderr",
          "text": [
            "/usr/local/lib/python3.7/dist-packages/sklearn/utils/deprecation.py:87: FutureWarning: Function plot_confusion_matrix is deprecated; Function `plot_confusion_matrix` is deprecated in 1.0 and will be removed in 1.2. Use one of the class methods: ConfusionMatrixDisplay.from_predictions or ConfusionMatrixDisplay.from_estimator.\n",
            "  warnings.warn(msg, category=FutureWarning)\n"
          ]
        },
        {
          "output_type": "display_data",
          "data": {
            "image/png": "[encoded data removed]",
            "text/plain": [
              "<Figure size 432x288 with 2 Axes>"
            ]
          },
          "metadata": {
            "needs_background": "light"
          }
        }
      ]
    },
    {
      "cell_type": "code",
      "metadata": {
        "colab": {
          "base_uri": "https://localhost:8080/"
        },
        "id": "061c5749",
        "outputId": "82d0f3c4-4d09-43e8-c22f-4859c145536f"
      },
      "source": [
        "precision_score(y_test,pred, average=\"weighted\")"
      ],
      "id": "061c5749",
      "execution_count": null,
      "outputs": [
        {
          "output_type": "execute_result",
          "data": {
            "text/plain": [
              "0.8353860530106392"
            ]
          },
          "metadata": {},
          "execution_count": 109
        }
      ]
    },
    {
      "cell_type": "code",
      "metadata": {
        "colab": {
          "base_uri": "https://localhost:8080/"
        },
        "id": "b7becdca",
        "outputId": "5af588bf-b799-4c88-cbdb-408e313def99"
      },
      "source": [
        "recall_score(y_test,pred,average=\"weighted\")"
      ],
      "id": "b7becdca",
      "execution_count": null,
      "outputs": [
        {
          "output_type": "execute_result",
          "data": {
            "text/plain": [
              "0.8303715670436187"
            ]
          },
          "metadata": {},
          "execution_count": 110
        }
      ]
    },
    {
      "cell_type": "code",
      "metadata": {
        "colab": {
          "base_uri": "https://localhost:8080/"
        },
        "id": "692dfece",
        "outputId": "4e9101c9-5249-47f9-b4e7-187bc56dc07d"
      },
      "source": [
        "f1_score(y_test,pred,average=\"weighted\")"
      ],
      "id": "692dfece",
      "execution_count": null,
      "outputs": [
        {
          "output_type": "execute_result",
          "data": {
            "text/plain": [
              "0.8184626051511629"
            ]
          },
          "metadata": {},
          "execution_count": 111
        }
      ]
    },
    {
      "cell_type": "markdown",
      "metadata": {
        "id": "ed81b6a2"
      },
      "source": [
        "### 4. NAIVE BAYES"
      ],
      "id": "ed81b6a2"
    },
    {
      "cell_type": "code",
      "metadata": {
        "id": "abf524fb"
      },
      "source": [
        "from sklearn.naive_bayes import GaussianNB, MultinomialNB, ComplementNB, BernoulliNB, CategoricalNB"
      ],
      "id": "abf524fb",
      "execution_count": null,
      "outputs": []
    },
    {
      "cell_type": "markdown",
      "metadata": {
        "id": "b5a24aa4"
      },
      "source": [
        "### 4.1 GAUSSIAN NAIVE BAYES"
      ],
      "id": "b5a24aa4"
    },
    {
      "cell_type": "code",
      "metadata": {
        "colab": {
          "base_uri": "https://localhost:8080/"
        },
        "id": "cdde8ee0",
        "outputId": "60809b3a-d664-4a75-eb4f-c13fbba92ee2"
      },
      "source": [
        "gnb = GaussianNB()\n",
        "gnb.fit(X_train.toarray(), y_train)\n",
        "pred = gnb.predict(X_test.toarray())\n",
        "\n",
        "accuracy_score(y_test, pred)"
      ],
      "id": "cdde8ee0",
      "execution_count": null,
      "outputs": [
        {
          "output_type": "execute_result",
          "data": {
            "text/plain": [
              "0.6607431340872375"
            ]
          },
          "metadata": {},
          "execution_count": 113
        }
      ]
    },
    {
      "cell_type": "code",
      "metadata": {
        "colab": {
          "base_uri": "https://localhost:8080/"
        },
        "id": "d6fdcf99",
        "outputId": "1ed5e240-fbe5-492d-d85a-2545652e7778"
      },
      "source": [
        "plot_confusion_matrix(gnb,X_test.toarray(), y_test,cmap=\"Oranges\") \n",
        "plt.savefig(\"GaussianNB.png\")\n",
        "plt.show()"
      ],
      "id": "d6fdcf99",
      "execution_count": null,
      "outputs": [
        {
          "output_type": "stream",
          "name": "stderr",
          "text": [
            "/usr/local/lib/python3.7/dist-packages/sklearn/utils/deprecation.py:87: FutureWarning: Function plot_confusion_matrix is deprecated; Function `plot_confusion_matrix` is deprecated in 1.0 and will be removed in 1.2. Use one of the class methods: ConfusionMatrixDisplay.from_predictions or ConfusionMatrixDisplay.from_estimator.\n",
            "  warnings.warn(msg, category=FutureWarning)\n"
          ]
        },
        {
          "output_type": "display_data",
          "data": {
            "image/png": "[encoded data removed]",
            "text/plain": [
              "<Figure size 432x288 with 2 Axes>"
            ]
          },
          "metadata": {
            "needs_background": "light"
          }
        }
      ]
    },
    {
      "cell_type": "code",
      "metadata": {
        "colab": {
          "base_uri": "https://localhost:8080/"
        },
        "id": "c4f2451f",
        "outputId": "3d144587-84fb-4528-e12c-09648162e827"
      },
      "source": [
        "precision_score(y_test,pred, average=\"weighted\")"
      ],
      "id": "c4f2451f",
      "execution_count": null,
      "outputs": [
        {
          "output_type": "execute_result",
          "data": {
            "text/plain": [
              "0.7168888731085822"
            ]
          },
          "metadata": {},
          "execution_count": 115
        }
      ]
    },
    {
      "cell_type": "code",
      "metadata": {
        "colab": {
          "base_uri": "https://localhost:8080/"
        },
        "id": "630a57e5",
        "outputId": "e3b641f7-1045-4e34-f5ee-b50fff28666f"
      },
      "source": [
        "recall_score(y_test,pred,average=\"weighted\")"
      ],
      "id": "630a57e5",
      "execution_count": null,
      "outputs": [
        {
          "output_type": "execute_result",
          "data": {
            "text/plain": [
              "0.6607431340872375"
            ]
          },
          "metadata": {},
          "execution_count": 116
        }
      ]
    },
    {
      "cell_type": "code",
      "metadata": {
        "colab": {
          "base_uri": "https://localhost:8080/"
        },
        "id": "aca6adc0",
        "outputId": "16d6712d-24e8-43af-e5cd-c50b4cf9d789"
      },
      "source": [
        "f1_score(y_test,pred,average=\"weighted\")"
      ],
      "id": "aca6adc0",
      "execution_count": null,
      "outputs": [
        {
          "output_type": "execute_result",
          "data": {
            "text/plain": [
              "0.682423501682157"
            ]
          },
          "metadata": {},
          "execution_count": 117
        }
      ]
    },
    {
      "cell_type": "markdown",
      "metadata": {
        "id": "54bf49a2"
      },
      "source": [
        "### 4.2 MULTINOMIAL NAIVE BAYES"
      ],
      "id": "54bf49a2"
    },
    {
      "cell_type": "code",
      "metadata": {
        "colab": {
          "base_uri": "https://localhost:8080/"
        },
        "id": "742e5549",
        "outputId": "b56e1d39-c07b-4301-9586-3512f8b19287"
      },
      "source": [
        "mnb = MultinomialNB()\n",
        "mnb.fit(X_train, y_train)\n",
        "pred = mnb.predict(X_test)\n",
        "\n",
        "accuracy_score(y_test, pred)"
      ],
      "id": "742e5549",
      "execution_count": null,
      "outputs": [
        {
          "output_type": "execute_result",
          "data": {
            "text/plain": [
              "0.7641357027463651"
            ]
          },
          "metadata": {},
          "execution_count": 118
        }
      ]
    },
    {
      "cell_type": "code",
      "metadata": {
        "colab": {
          "base_uri": "https://localhost:8080/"
        },
        "id": "43c5f520",
        "outputId": "9e40f1c3-72ed-4cf8-8b57-93d231e5ce0a"
      },
      "source": [
        "plot_confusion_matrix(mnb,X_test, y_test,cmap=\"Oranges\") \n",
        "plt.savefig(\"MultinomialNB.png\")\n",
        "plt.show()"
      ],
      "id": "43c5f520",
      "execution_count": null,
      "outputs": [
        {
          "output_type": "stream",
          "name": "stderr",
          "text": [
            "/usr/local/lib/python3.7/dist-packages/sklearn/utils/deprecation.py:87: FutureWarning: Function plot_confusion_matrix is deprecated; Function `plot_confusion_matrix` is deprecated in 1.0 and will be removed in 1.2. Use one of the class methods: ConfusionMatrixDisplay.from_predictions or ConfusionMatrixDisplay.from_estimator.\n",
            "  warnings.warn(msg, category=FutureWarning)\n"
          ]
        },
        {
          "output_type": "display_data",
          "data": {
            "image/png": "[encoded data removed]",
            "text/plain": [
              "<Figure size 432x288 with 2 Axes>"
            ]
          },
          "metadata": {
            "needs_background": "light"
          }
        }
      ]
    },
    {
      "cell_type": "code",
      "metadata": {
        "colab": {
          "base_uri": "https://localhost:8080/"
        },
        "id": "590dfc44",
        "outputId": "aeba2460-cfa9-495d-be16-1b49d828bc34"
      },
      "source": [
        "precision_score(y_test,pred, average=\"weighted\")"
      ],
      "id": "590dfc44",
      "execution_count": null,
      "outputs": [
        {
          "output_type": "stream",
          "name": "stderr",
          "text": [
            "/usr/local/lib/python3.7/dist-packages/sklearn/metrics/_classification.py:1308: UndefinedMetricWarning: Precision is ill-defined and being set to 0.0 in labels with no predicted samples. Use `zero_division` parameter to control this behavior.\n",
            "  _warn_prf(average, modifier, msg_start, len(result))\n"
          ]
        },
        {
          "output_type": "execute_result",
          "data": {
            "text/plain": [
              "0.7044201944517616"
            ]
          },
          "metadata": {},
          "execution_count": 120
        }
      ]
    },
    {
      "cell_type": "code",
      "metadata": {
        "colab": {
          "base_uri": "https://localhost:8080/"
        },
        "id": "3030690c",
        "outputId": "64e1e6a1-65dd-40ec-e4dd-237434cfeb1a"
      },
      "source": [
        "recall_score(y_test,pred,average=\"weighted\")"
      ],
      "id": "3030690c",
      "execution_count": null,
      "outputs": [
        {
          "output_type": "execute_result",
          "data": {
            "text/plain": [
              "0.7641357027463651"
            ]
          },
          "metadata": {},
          "execution_count": 121
        }
      ]
    },
    {
      "cell_type": "code",
      "metadata": {
        "colab": {
          "base_uri": "https://localhost:8080/"
        },
        "id": "e61c1285",
        "outputId": "65eff171-57fe-4d4b-8c33-f8362994de1c"
      },
      "source": [
        "f1_score(y_test,pred,average=\"weighted\")"
      ],
      "id": "e61c1285",
      "execution_count": null,
      "outputs": [
        {
          "output_type": "execute_result",
          "data": {
            "text/plain": [
              "0.7247836914681066"
            ]
          },
          "metadata": {},
          "execution_count": 122
        }
      ]
    },
    {
      "cell_type": "markdown",
      "metadata": {
        "id": "25eba3e1"
      },
      "source": [
        "### 4.3 COMPLEMENT NAIVE BAYES"
      ],
      "id": "25eba3e1"
    },
    {
      "cell_type": "code",
      "metadata": {
        "colab": {
          "base_uri": "https://localhost:8080/"
        },
        "id": "d1b5c953",
        "outputId": "d07bc4c7-c5ec-42fb-cb72-2e9a1d198fe1"
      },
      "source": [
        "cnb = ComplementNB()\n",
        "cnb.fit(X_train, y_train)\n",
        "pred = cnb.predict(X_test)\n",
        "\n",
        "accuracy_score(y_test, pred)"
      ],
      "id": "d1b5c953",
      "execution_count": null,
      "outputs": [
        {
          "output_type": "execute_result",
          "data": {
            "text/plain": [
              "0.7738287560581584"
            ]
          },
          "metadata": {},
          "execution_count": 123
        }
      ]
    },
    {
      "cell_type": "code",
      "metadata": {
        "colab": {
          "base_uri": "https://localhost:8080/"
        },
        "id": "5862cf45",
        "outputId": "976e76e8-f4e9-4c75-a691-79682ec70c79"
      },
      "source": [
        "plot_confusion_matrix(cnb,X_test, y_test,cmap=\"Oranges\") \n",
        "plt.savefig(\"ComplementNB.png\")\n",
        "plt.show()"
      ],
      "id": "5862cf45",
      "execution_count": null,
      "outputs": [
        {
          "output_type": "stream",
          "name": "stderr",
          "text": [
            "/usr/local/lib/python3.7/dist-packages/sklearn/utils/deprecation.py:87: FutureWarning: Function plot_confusion_matrix is deprecated; Function `plot_confusion_matrix` is deprecated in 1.0 and will be removed in 1.2. Use one of the class methods: ConfusionMatrixDisplay.from_predictions or ConfusionMatrixDisplay.from_estimator.\n",
            "  warnings.warn(msg, category=FutureWarning)\n"
          ]
        },
        {
          "output_type": "display_data",
          "data": {
            "image/png": "[encoded data removed]",
            "text/plain": [
              "<Figure size 432x288 with 2 Axes>"
            ]
          },
          "metadata": {
            "needs_background": "light"
          }
        }
      ]
    },
    {
      "cell_type": "code",
      "metadata": {
        "colab": {
          "base_uri": "https://localhost:8080/"
        },
        "id": "37901148",
        "outputId": "e0419c4c-d94f-4993-9d95-748eddbc8285"
      },
      "source": [
        "precision_score(y_test,pred,average=\"weighted\")"
      ],
      "id": "37901148",
      "execution_count": null,
      "outputs": [
        {
          "output_type": "execute_result",
          "data": {
            "text/plain": [
              "0.7696906367125271"
            ]
          },
          "metadata": {},
          "execution_count": 125
        }
      ]
    },
    {
      "cell_type": "code",
      "metadata": {
        "colab": {
          "base_uri": "https://localhost:8080/"
        },
        "id": "c48bf64a",
        "outputId": "0daef096-31ce-45d6-b877-d638c653c9b3"
      },
      "source": [
        "recall_score(y_test,pred,average=\"weighted\")"
      ],
      "id": "c48bf64a",
      "execution_count": null,
      "outputs": [
        {
          "output_type": "execute_result",
          "data": {
            "text/plain": [
              "0.7738287560581584"
            ]
          },
          "metadata": {},
          "execution_count": 126
        }
      ]
    },
    {
      "cell_type": "code",
      "metadata": {
        "colab": {
          "base_uri": "https://localhost:8080/"
        },
        "id": "2fa7fae9",
        "outputId": "fffe6797-9903-45f9-92b7-b36138f8cef0"
      },
      "source": [
        "f1_score(y_test,pred,average=\"weighted\")"
      ],
      "id": "2fa7fae9",
      "execution_count": null,
      "outputs": [
        {
          "output_type": "execute_result",
          "data": {
            "text/plain": [
              "0.7711874458393422"
            ]
          },
          "metadata": {},
          "execution_count": 127
        }
      ]
    },
    {
      "cell_type": "markdown",
      "metadata": {
        "id": "9eed9e4a"
      },
      "source": [
        "### 4.4 BERNOULLI NAIVE BAYES"
      ],
      "id": "9eed9e4a"
    },
    {
      "cell_type": "code",
      "metadata": {
        "colab": {
          "base_uri": "https://localhost:8080/"
        },
        "id": "882e55bb",
        "outputId": "4cbb05a2-dc79-4621-d46d-738e22700ca0"
      },
      "source": [
        "bnb = BernoulliNB()\n",
        "bnb.fit(X_train, y_train)\n",
        "pred = bnb.predict(X_test)\n",
        "\n",
        "accuracy_score(y_test, pred)"
      ],
      "id": "882e55bb",
      "execution_count": null,
      "outputs": [
        {
          "output_type": "execute_result",
          "data": {
            "text/plain": [
              "0.7479806138933764"
            ]
          },
          "metadata": {},
          "execution_count": 128
        }
      ]
    },
    {
      "cell_type": "code",
      "metadata": {
        "colab": {
          "base_uri": "https://localhost:8080/"
        },
        "id": "a3f1e72b",
        "outputId": "2a128a66-7ea6-485e-c7a2-45a7c231fc86"
      },
      "source": [
        "plot_confusion_matrix(bnb,X_test, y_test,cmap=\"Oranges\") \n",
        "plt.savefig(\"BernoulliNB.png\")\n",
        "plt.show()"
      ],
      "id": "a3f1e72b",
      "execution_count": null,
      "outputs": [
        {
          "output_type": "stream",
          "name": "stderr",
          "text": [
            "/usr/local/lib/python3.7/dist-packages/sklearn/utils/deprecation.py:87: FutureWarning: Function plot_confusion_matrix is deprecated; Function `plot_confusion_matrix` is deprecated in 1.0 and will be removed in 1.2. Use one of the class methods: ConfusionMatrixDisplay.from_predictions or ConfusionMatrixDisplay.from_estimator.\n",
            "  warnings.warn(msg, category=FutureWarning)\n"
          ]
        },
        {
          "output_type": "display_data",
          "data": {
            "image/png": "[encoded data removed]",
            "text/plain": [
              "<Figure size 432x288 with 2 Axes>"
            ]
          },
          "metadata": {
            "needs_background": "light"
          }
        }
      ]
    },
    {
      "cell_type": "code",
      "metadata": {
        "colab": {
          "base_uri": "https://localhost:8080/"
        },
        "id": "f6aedcb8",
        "outputId": "c90e6582-d648-407b-b76c-e1217c9a5bf4"
      },
      "source": [
        "precision_score(y_test,pred,average=\"weighted\")"
      ],
      "id": "f6aedcb8",
      "execution_count": null,
      "outputs": [
        {
          "output_type": "stream",
          "name": "stderr",
          "text": [
            "/usr/local/lib/python3.7/dist-packages/sklearn/metrics/_classification.py:1308: UndefinedMetricWarning: Precision is ill-defined and being set to 0.0 in labels with no predicted samples. Use `zero_division` parameter to control this behavior.\n",
            "  _warn_prf(average, modifier, msg_start, len(result))\n"
          ]
        },
        {
          "output_type": "execute_result",
          "data": {
            "text/plain": [
              "0.6867441421942622"
            ]
          },
          "metadata": {},
          "execution_count": 130
        }
      ]
    },
    {
      "cell_type": "code",
      "metadata": {
        "colab": {
          "base_uri": "https://localhost:8080/"
        },
        "id": "1ce2c4bf",
        "outputId": "9bd04c05-05cd-493a-f3d1-04acb24f3edd"
      },
      "source": [
        "recall_score(y_test,pred,average=\"weighted\")"
      ],
      "id": "1ce2c4bf",
      "execution_count": null,
      "outputs": [
        {
          "output_type": "execute_result",
          "data": {
            "text/plain": [
              "0.7479806138933764"
            ]
          },
          "metadata": {},
          "execution_count": 131
        }
      ]
    },
    {
      "cell_type": "code",
      "metadata": {
        "colab": {
          "base_uri": "https://localhost:8080/"
        },
        "id": "1c420262",
        "outputId": "965d2db4-8efc-4321-9fef-9ebbf9492fa0"
      },
      "source": [
        "f1_score(y_test,pred,average=\"weighted\")"
      ],
      "id": "1c420262",
      "execution_count": null,
      "outputs": [
        {
          "output_type": "execute_result",
          "data": {
            "text/plain": [
              "0.709632453997976"
            ]
          },
          "metadata": {},
          "execution_count": 132
        }
      ]
    },
    {
      "cell_type": "markdown",
      "metadata": {
        "id": "069276ab"
      },
      "source": [
        "### 5. AdaBoost Classifier"
      ],
      "id": "069276ab"
    },
    {
      "cell_type": "code",
      "metadata": {
        "id": "2e182c50"
      },
      "source": [
        "from sklearn.ensemble import AdaBoostClassifier"
      ],
      "id": "2e182c50",
      "execution_count": null,
      "outputs": []
    },
    {
      "cell_type": "code",
      "metadata": {
        "id": "786536e7"
      },
      "source": [
        "abc=AdaBoostClassifier()"
      ],
      "id": "786536e7",
      "execution_count": null,
      "outputs": []
    },
    {
      "cell_type": "code",
      "metadata": {
        "colab": {
          "base_uri": "https://localhost:8080/"
        },
        "id": "4131b180",
        "outputId": "e5e2c076-e289-457d-eb0a-e34985c0bafe"
      },
      "source": [
        "abc.fit(X_train, y_train)\n",
        "pred = abc.predict(X_test)\n",
        "\n",
        "accuracy_score(y_test, pred)"
      ],
      "id": "4131b180",
      "execution_count": null,
      "outputs": [
        {
          "output_type": "execute_result",
          "data": {
            "text/plain": [
              "0.7172859450726979"
            ]
          },
          "metadata": {},
          "execution_count": 135
        }
      ]
    },
    {
      "cell_type": "code",
      "metadata": {
        "colab": {
          "base_uri": "https://localhost:8080/"
        },
        "id": "c1ed1a88",
        "outputId": "20af30a3-1cb9-44d7-e900-7c270fcfed80"
      },
      "source": [
        "precision_score(y_test,pred,average=\"weighted\")"
      ],
      "id": "c1ed1a88",
      "execution_count": null,
      "outputs": [
        {
          "output_type": "execute_result",
          "data": {
            "text/plain": [
              "0.7067929401516971"
            ]
          },
          "metadata": {},
          "execution_count": 136
        }
      ]
    },
    {
      "cell_type": "code",
      "metadata": {
        "colab": {
          "base_uri": "https://localhost:8080/"
        },
        "id": "8228aee7",
        "outputId": "fc15db70-c53f-42e1-b4fc-5f0ad7c16b7d"
      },
      "source": [
        "recall_score(y_test,pred,average=\"weighted\")"
      ],
      "id": "8228aee7",
      "execution_count": null,
      "outputs": [
        {
          "output_type": "execute_result",
          "data": {
            "text/plain": [
              "0.7172859450726979"
            ]
          },
          "metadata": {},
          "execution_count": 137
        }
      ]
    },
    {
      "cell_type": "code",
      "metadata": {
        "colab": {
          "base_uri": "https://localhost:8080/"
        },
        "id": "ea835f18",
        "outputId": "e5dfdb1f-09df-4aeb-e2eb-22931add7c6e"
      },
      "source": [
        "f1_score(y_test,pred,average=\"weighted\")"
      ],
      "id": "ea835f18",
      "execution_count": null,
      "outputs": [
        {
          "output_type": "execute_result",
          "data": {
            "text/plain": [
              "0.6928448910837537"
            ]
          },
          "metadata": {},
          "execution_count": 138
        }
      ]
    },
    {
      "cell_type": "code",
      "metadata": {
        "scrolled": true,
        "colab": {
          "base_uri": "https://localhost:8080/"
        },
        "id": "f622f71e",
        "outputId": "de7970fb-f3c2-46f4-a23f-32e88a452885"
      },
      "source": [
        "plot_confusion_matrix(abc,X_test, y_test,cmap=\"Oranges\") \n",
        "plt.savefig(\"AdaBoost.png\")\n",
        "plt.show()"
      ],
      "id": "f622f71e",
      "execution_count": null,
      "outputs": [
        {
          "output_type": "stream",
          "name": "stderr",
          "text": [
            "/usr/local/lib/python3.7/dist-packages/sklearn/utils/deprecation.py:87: FutureWarning: Function plot_confusion_matrix is deprecated; Function `plot_confusion_matrix` is deprecated in 1.0 and will be removed in 1.2. Use one of the class methods: ConfusionMatrixDisplay.from_predictions or ConfusionMatrixDisplay.from_estimator.\n",
            "  warnings.warn(msg, category=FutureWarning)\n"
          ]
        },
        {
          "output_type": "display_data",
          "data": {
            "image/png": "[encoded data removed]",
            "text/plain": [
              "<Figure size 432x288 with 2 Axes>"
            ]
          },
          "metadata": {
            "needs_background": "light"
          }
        }
      ]
    },
    {
      "cell_type": "markdown",
      "metadata": {
        "id": "0d28e1a2"
      },
      "source": [
        "### 6. CatBoost"
      ],
      "id": "0d28e1a2"
    },
    {
      "cell_type": "code",
      "metadata": {
        "id": "f77a593e"
      },
      "source": [
        "from catboost import CatBoostClassifier"
      ],
      "id": "f77a593e",
      "execution_count": null,
      "outputs": []
    },
    {
      "cell_type": "code",
      "metadata": {
        "id": "112faaa1"
      },
      "source": [
        "clf = CatBoostClassifier(\n",
        "    iterations=600,\n",
        "    learning_rate=1.0,\n",
        "    verbose = 10\n",
        ")"
      ],
      "id": "112faaa1",
      "execution_count": null,
      "outputs": []
    },
    {
      "cell_type": "code",
      "metadata": {
        "colab": {
          "base_uri": "https://localhost:8080/"
        },
        "id": "37ea455f",
        "outputId": "334a24a5-13ad-4e64-f61b-8f4a151168ea"
      },
      "source": [
        "clf.fit(X_train, y_train)"
      ],
      "id": "37ea455f",
      "execution_count": null,
      "outputs": [
        {
          "output_type": "stream",
          "name": "stdout",
          "text": [
            "0:\tlearn: 0.8336955\ttotal: 238ms\tremaining: 2m 22s\n",
            "10:\tlearn: 0.5539726\ttotal: 1.15s\tremaining: 1m 1s\n",
            "20:\tlearn: 0.4756216\ttotal: 2.03s\tremaining: 56s\n",
            "30:\tlearn: 0.4310880\ttotal: 2.91s\tremaining: 53.4s\n",
            "40:\tlearn: 0.3986711\ttotal: 3.78s\tremaining: 51.5s\n",
            "50:\tlearn: 0.3780000\ttotal: 4.64s\tremaining: 49.9s\n",
            "60:\tlearn: 0.3646667\ttotal: 5.5s\tremaining: 48.6s\n",
            "70:\tlearn: 0.3471580\ttotal: 6.39s\tremaining: 47.6s\n",
            "80:\tlearn: 0.3335618\ttotal: 7.25s\tremaining: 46.5s\n",
            "90:\tlearn: 0.3185050\ttotal: 8.11s\tremaining: 45.4s\n",
            "100:\tlearn: 0.2993372\ttotal: 8.98s\tremaining: 44.4s\n",
            "110:\tlearn: 0.2804964\ttotal: 9.85s\tremaining: 43.4s\n",
            "120:\tlearn: 0.2713584\ttotal: 10.7s\tremaining: 42.4s\n",
            "130:\tlearn: 0.2628542\ttotal: 11.6s\tremaining: 41.4s\n",
            "140:\tlearn: 0.2552148\ttotal: 12.4s\tremaining: 40.5s\n",
            "150:\tlearn: 0.2471661\ttotal: 13.3s\tremaining: 39.5s\n",
            "160:\tlearn: 0.2407698\ttotal: 14.1s\tremaining: 38.6s\n",
            "170:\tlearn: 0.2345349\ttotal: 15s\tremaining: 37.7s\n",
            "180:\tlearn: 0.2273313\ttotal: 15.9s\tremaining: 36.8s\n",
            "190:\tlearn: 0.2206171\ttotal: 16.8s\tremaining: 35.9s\n",
            "200:\tlearn: 0.2161756\ttotal: 17.6s\tremaining: 35s\n",
            "210:\tlearn: 0.2104975\ttotal: 18.5s\tremaining: 34.2s\n",
            "220:\tlearn: 0.2044737\ttotal: 19.4s\tremaining: 33.2s\n",
            "230:\tlearn: 0.1994680\ttotal: 20.2s\tremaining: 32.3s\n",
            "240:\tlearn: 0.1926867\ttotal: 21.1s\tremaining: 31.5s\n",
            "250:\tlearn: 0.1871013\ttotal: 22s\tremaining: 30.6s\n",
            "260:\tlearn: 0.1829165\ttotal: 22.9s\tremaining: 29.7s\n",
            "270:\tlearn: 0.1790540\ttotal: 23.7s\tremaining: 28.8s\n",
            "280:\tlearn: 0.1750330\ttotal: 24.6s\tremaining: 27.9s\n",
            "290:\tlearn: 0.1687674\ttotal: 25.4s\tremaining: 27s\n",
            "300:\tlearn: 0.1652784\ttotal: 26.3s\tremaining: 26.1s\n",
            "310:\tlearn: 0.1604799\ttotal: 27.2s\tremaining: 25.3s\n",
            "320:\tlearn: 0.1577267\ttotal: 28s\tremaining: 24.4s\n",
            "330:\tlearn: 0.1543826\ttotal: 28.9s\tremaining: 23.5s\n",
            "340:\tlearn: 0.1503065\ttotal: 29.8s\tremaining: 22.6s\n",
            "350:\tlearn: 0.1457798\ttotal: 30.6s\tremaining: 21.7s\n",
            "360:\tlearn: 0.1432429\ttotal: 31.5s\tremaining: 20.8s\n",
            "370:\tlearn: 0.1405824\ttotal: 32.3s\tremaining: 20s\n",
            "380:\tlearn: 0.1377808\ttotal: 33.2s\tremaining: 19.1s\n",
            "390:\tlearn: 0.1343162\ttotal: 34s\tremaining: 18.2s\n",
            "400:\tlearn: 0.1322189\ttotal: 34.9s\tremaining: 17.3s\n",
            "410:\tlearn: 0.1306601\ttotal: 35.8s\tremaining: 16.4s\n",
            "420:\tlearn: 0.1289712\ttotal: 36.6s\tremaining: 15.6s\n",
            "430:\tlearn: 0.1264030\ttotal: 37.5s\tremaining: 14.7s\n",
            "440:\tlearn: 0.1236751\ttotal: 38.4s\tremaining: 13.8s\n",
            "450:\tlearn: 0.1219440\ttotal: 39.2s\tremaining: 13s\n",
            "460:\tlearn: 0.1188782\ttotal: 40.1s\tremaining: 12.1s\n",
            "470:\tlearn: 0.1157450\ttotal: 40.9s\tremaining: 11.2s\n",
            "480:\tlearn: 0.1142626\ttotal: 41.8s\tremaining: 10.3s\n",
            "490:\tlearn: 0.1114330\ttotal: 42.6s\tremaining: 9.47s\n",
            "500:\tlearn: 0.1099487\ttotal: 43.5s\tremaining: 8.6s\n",
            "510:\tlearn: 0.1083155\ttotal: 44.4s\tremaining: 7.72s\n",
            "520:\tlearn: 0.1071495\ttotal: 45.2s\tremaining: 6.85s\n",
            "530:\tlearn: 0.1053674\ttotal: 46.1s\tremaining: 5.99s\n",
            "540:\tlearn: 0.1041485\ttotal: 46.9s\tremaining: 5.12s\n",
            "550:\tlearn: 0.1028163\ttotal: 47.8s\tremaining: 4.25s\n",
            "560:\tlearn: 0.1005025\ttotal: 48.6s\tremaining: 3.38s\n",
            "570:\tlearn: 0.0991750\ttotal: 49.5s\tremaining: 2.51s\n",
            "580:\tlearn: 0.0982383\ttotal: 50.3s\tremaining: 1.65s\n",
            "590:\tlearn: 0.0967402\ttotal: 51.2s\tremaining: 780ms\n",
            "599:\tlearn: 0.0955976\ttotal: 51.9s\tremaining: 0us\n"
          ]
        },
        {
          "output_type": "execute_result",
          "data": {
            "text/plain": [
              "<catboost.core.CatBoostClassifier at 0x7fd3c16e4350>"
            ]
          },
          "metadata": {},
          "execution_count": 142
        }
      ]
    },
    {
      "cell_type": "code",
      "metadata": {
        "scrolled": true,
        "colab": {
          "base_uri": "https://localhost:8080/"
        },
        "id": "698657f7",
        "outputId": "1d342156-6722-4b90-e8ba-750b134ffb9f"
      },
      "source": [
        "y_pred = clf.predict(X_test)\n",
        "accuracy_score(y_test, y_pred)"
      ],
      "id": "698657f7",
      "execution_count": null,
      "outputs": [
        {
          "output_type": "execute_result",
          "data": {
            "text/plain": [
              "0.8465266558966075"
            ]
          },
          "metadata": {},
          "execution_count": 143
        }
      ]
    },
    {
      "cell_type": "code",
      "metadata": {
        "colab": {
          "base_uri": "https://localhost:8080/"
        },
        "id": "77ca8758",
        "outputId": "be3fb1cd-1c7c-4f0d-d3bb-368b7c44fa71"
      },
      "source": [
        "precision_score(y_test,y_pred,average=\"weighted\")"
      ],
      "id": "77ca8758",
      "execution_count": null,
      "outputs": [
        {
          "output_type": "execute_result",
          "data": {
            "text/plain": [
              "0.8451434359899077"
            ]
          },
          "metadata": {},
          "execution_count": 144
        }
      ]
    },
    {
      "cell_type": "code",
      "metadata": {
        "colab": {
          "base_uri": "https://localhost:8080/"
        },
        "id": "cf736a13",
        "outputId": "bed56486-d163-417f-d3e6-a1d68fe245be"
      },
      "source": [
        "recall_score(y_test,y_pred,average=\"weighted\")"
      ],
      "id": "cf736a13",
      "execution_count": null,
      "outputs": [
        {
          "output_type": "execute_result",
          "data": {
            "text/plain": [
              "0.8465266558966075"
            ]
          },
          "metadata": {},
          "execution_count": 145
        }
      ]
    },
    {
      "cell_type": "code",
      "metadata": {
        "colab": {
          "base_uri": "https://localhost:8080/"
        },
        "id": "7675efa6",
        "outputId": "34dee209-4369-47e8-bc50-5a589f4d2c20"
      },
      "source": [
        "f1_score(y_test,y_pred,average=\"weighted\")"
      ],
      "id": "7675efa6",
      "execution_count": null,
      "outputs": [
        {
          "output_type": "execute_result",
          "data": {
            "text/plain": [
              "0.8446003890623469"
            ]
          },
          "metadata": {},
          "execution_count": 146
        }
      ]
    },
    {
      "cell_type": "code",
      "metadata": {
        "colab": {
          "base_uri": "https://localhost:8080/",
          "height": 335
        },
        "id": "9bcca7bc",
        "outputId": "7bab6233-19e4-4918-8448-7a91e6c57256"
      },
      "source": [
        "plot_confusion_matrix(clf,X_test, y_test,cmap=\"Oranges\") \n",
        "plt.savefig(\"CatBoost.png\")\n",
        "plt.show()"
      ],
      "id": "9bcca7bc",
      "execution_count": null,
      "outputs": [
        {
          "output_type": "stream",
          "name": "stderr",
          "text": [
            "/usr/local/lib/python3.7/dist-packages/sklearn/utils/deprecation.py:87: FutureWarning: Function plot_confusion_matrix is deprecated; Function `plot_confusion_matrix` is deprecated in 1.0 and will be removed in 1.2. Use one of the class methods: ConfusionMatrixDisplay.from_predictions or ConfusionMatrixDisplay.from_estimator.\n",
            "  warnings.warn(msg, category=FutureWarning)\n"
          ]
        },
        {
          "output_type": "display_data",
          "data": {
            "image/png": "[encoded data removed]",
            "text/plain": [
              "<Figure size 432x288 with 2 Axes>"
            ]
          },
          "metadata": {
            "needs_background": "light"
          }
        }
      ]
    },
    {
      "cell_type": "markdown",
      "metadata": {
        "id": "38d29ad2"
      },
      "source": [
        "### XGBoost"
      ],
      "id": "38d29ad2"
    },
    {
      "cell_type": "code",
      "metadata": {
        "id": "c6adb8fe"
      },
      "source": [
        "from xgboost import XGBClassifier"
      ],
      "id": "c6adb8fe",
      "execution_count": null,
      "outputs": []
    },
    {
      "cell_type": "code",
      "metadata": {
        "id": "46813551"
      },
      "source": [
        "xgb = XGBClassifier(learning_rate=0.3)"
      ],
      "id": "46813551",
      "execution_count": null,
      "outputs": []
    },
    {
      "cell_type": "code",
      "metadata": {
        "colab": {
          "base_uri": "https://localhost:8080/"
        },
        "id": "7dd49e97",
        "outputId": "08b07b00-f078-4a98-b2c9-a78abf6cf74f"
      },
      "source": [
        "xgb.fit(X_train, y_train)"
      ],
      "id": "7dd49e97",
      "execution_count": null,
      "outputs": [
        {
          "output_type": "execute_result",
          "data": {
            "text/plain": [
              "XGBClassifier(learning_rate=0.3, objective='multi:softprob')"
            ]
          },
          "metadata": {},
          "execution_count": 158
        }
      ]
    },
    {
      "cell_type": "code",
      "metadata": {
        "colab": {
          "base_uri": "https://localhost:8080/"
        },
        "id": "7a6cff6e",
        "outputId": "f02f3e51-0af3-42ec-904a-c1b385bd73bc"
      },
      "source": [
        "xgb_pred = xgb.predict(X_test)\n",
        "accuracy_score(y_test, xgb_pred)"
      ],
      "id": "7a6cff6e",
      "execution_count": null,
      "outputs": [
        {
          "output_type": "execute_result",
          "data": {
            "text/plain": [
              "0.8788368336025848"
            ]
          },
          "metadata": {},
          "execution_count": 159
        }
      ]
    },
    {
      "cell_type": "code",
      "metadata": {
        "colab": {
          "base_uri": "https://localhost:8080/"
        },
        "id": "f9471f43",
        "outputId": "6100f6a9-071b-41b1-d2dd-8301f5166f99"
      },
      "source": [
        "precision_score(y_test,xgb_pred,average=\"weighted\")"
      ],
      "id": "f9471f43",
      "execution_count": null,
      "outputs": [
        {
          "output_type": "execute_result",
          "data": {
            "text/plain": [
              "0.8794532518280499"
            ]
          },
          "metadata": {},
          "execution_count": 160
        }
      ]
    },
    {
      "cell_type": "code",
      "metadata": {
        "colab": {
          "base_uri": "https://localhost:8080/"
        },
        "id": "c20c1b30",
        "outputId": "e995dcbb-1263-40ee-f752-5d5a013bba2a"
      },
      "source": [
        "recall_score(y_test,xgb_pred,average=\"weighted\")"
      ],
      "id": "c20c1b30",
      "execution_count": null,
      "outputs": [
        {
          "output_type": "execute_result",
          "data": {
            "text/plain": [
              "0.8788368336025848"
            ]
          },
          "metadata": {},
          "execution_count": 161
        }
      ]
    },
    {
      "cell_type": "code",
      "metadata": {
        "colab": {
          "base_uri": "https://localhost:8080/"
        },
        "id": "85134884",
        "outputId": "fe505833-3d59-4398-8b51-0c20e352bf4b"
      },
      "source": [
        "f1_score(y_test,xgb_pred,average=\"weighted\")"
      ],
      "id": "85134884",
      "execution_count": null,
      "outputs": [
        {
          "output_type": "execute_result",
          "data": {
            "text/plain": [
              "0.8784199548310667"
            ]
          },
          "metadata": {},
          "execution_count": 162
        }
      ]
    },
    {
      "cell_type": "code",
      "metadata": {
        "colab": {
          "base_uri": "https://localhost:8080/",
          "height": 335
        },
        "id": "e522b72a",
        "outputId": "05236efb-d933-4295-ad53-491a88b28e1a"
      },
      "source": [
        "plot_confusion_matrix(xgb,X_test, y_test,cmap=\"Oranges\") \n",
        "plt.savefig(\"XGBoost.png\")\n",
        "plt.show()"
      ],
      "id": "e522b72a",
      "execution_count": null,
      "outputs": [
        {
          "output_type": "stream",
          "name": "stderr",
          "text": [
            "/usr/local/lib/python3.7/dist-packages/sklearn/utils/deprecation.py:87: FutureWarning: Function plot_confusion_matrix is deprecated; Function `plot_confusion_matrix` is deprecated in 1.0 and will be removed in 1.2. Use one of the class methods: ConfusionMatrixDisplay.from_predictions or ConfusionMatrixDisplay.from_estimator.\n",
            "  warnings.warn(msg, category=FutureWarning)\n"
          ]
        },
        {
          "output_type": "display_data",
          "data": {
            "image/png": "[encoded data removed]",
            "text/plain": [
              "<Figure size 432x288 with 2 Axes>"
            ]
          },
          "metadata": {
            "needs_background": "light"
          }
        }
      ]
    },
    {
      "cell_type": "code",
      "metadata": {
        "id": "9839c1a9"
      },
      "source": [
        ""
      ],
      "id": "9839c1a9",
      "execution_count": null,
      "outputs": []
    }
  ]
}