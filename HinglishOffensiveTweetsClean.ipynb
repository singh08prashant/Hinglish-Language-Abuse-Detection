{
  "nbformat": 4,
  "nbformat_minor": 0,
  "metadata": {
    "colab": {
      "name": "HinglishOffensiveTweetsClean.ipynb",
      "provenance": []
    },
    "kernelspec": {
      "name": "python3",
      "display_name": "Python 3"
    },
    "language_info": {
      "name": "python"
    }
  },
  "cells": [
    {
      "cell_type": "code",
      "metadata": {
        "id": "5TnIBrrpzH7K"
      },
      "source": [
        "import pandas as pd\n",
        "from re import search"
      ],
      "execution_count": null,
      "outputs": []
    },
    {
      "cell_type": "code",
      "metadata": {
        "id": "YCC-XGhhzXPs"
      },
      "source": [
        "df=pd.read_csv(\"/content/HOT_Dataset_modified.csv\")"
      ],
      "execution_count": null,
      "outputs": []
    },
    {
      "cell_type": "code",
      "metadata": {
        "colab": {
          "base_uri": "https://localhost:8080/",
          "height": 756
        },
        "id": "jIdnX9wezfiU",
        "outputId": "8d686155-799e-46d7-83df-b3bf9425f87e"
      },
      "source": [
        "df"
      ],
      "execution_count": null,
      "outputs": [
        {
          "output_type": "execute_result",
          "data": {
            "text/html": [
              "<div>\n",
              "<style scoped>\n",
              "    .dataframe tbody tr th:only-of-type {\n",
              "        vertical-align: middle;\n",
              "    }\n",
              "\n",
              "    .dataframe tbody tr th {\n",
              "        vertical-align: top;\n",
              "    }\n",
              "\n",
              "    .dataframe thead th {\n",
              "        text-align: right;\n",
              "    }\n",
              "</style>\n",
              "<table border=\"1\" class=\"dataframe\">\n",
              "  <thead>\n",
              "    <tr style=\"text-align: right;\">\n",
              "      <th></th>\n",
              "      <th>Score</th>\n",
              "      <th>Tweet</th>\n",
              "      <th>Unnamed: 2</th>\n",
              "      <th>Unnamed: 3</th>\n",
              "      <th>Unnamed: 4</th>\n",
              "      <th>Unnamed: 5</th>\n",
              "      <th>Unnamed: 6</th>\n",
              "      <th>Unnamed: 7</th>\n",
              "      <th>Unnamed: 8</th>\n",
              "      <th>Unnamed: 9</th>\n",
              "      <th>Unnamed: 10</th>\n",
              "      <th>Unnamed: 11</th>\n",
              "      <th>Unnamed: 12</th>\n",
              "      <th>Unnamed: 13</th>\n",
              "      <th>Unnamed: 14</th>\n",
              "      <th>Unnamed: 15</th>\n",
              "      <th>Unnamed: 16</th>\n",
              "      <th>Unnamed: 17</th>\n",
              "      <th>Unnamed: 18</th>\n",
              "    </tr>\n",
              "  </thead>\n",
              "  <tbody>\n",
              "    <tr>\n",
              "      <th>0</th>\n",
              "      <td>0.0</td>\n",
              "      <td>@saud5683 @Mutayyab420 @shivang598 @Ranask35 @...</td>\n",
              "      <td>NaN</td>\n",
              "      <td>NaN</td>\n",
              "      <td>NaN</td>\n",
              "      <td>NaN</td>\n",
              "      <td>NaN</td>\n",
              "      <td>NaN</td>\n",
              "      <td>NaN</td>\n",
              "      <td>NaN</td>\n",
              "      <td>NaN</td>\n",
              "      <td>NaN</td>\n",
              "      <td>NaN</td>\n",
              "      <td>NaN</td>\n",
              "      <td>NaN</td>\n",
              "      <td>NaN</td>\n",
              "      <td>NaN</td>\n",
              "      <td>NaN</td>\n",
              "      <td>NaN</td>\n",
              "    </tr>\n",
              "    <tr>\n",
              "      <th>1</th>\n",
              "      <td>2.0</td>\n",
              "      <td>Banti hai empowered woman, feminism pe gyan pe...</td>\n",
              "      <td>NaN</td>\n",
              "      <td>NaN</td>\n",
              "      <td>NaN</td>\n",
              "      <td>NaN</td>\n",
              "      <td>NaN</td>\n",
              "      <td>NaN</td>\n",
              "      <td>NaN</td>\n",
              "      <td>NaN</td>\n",
              "      <td>NaN</td>\n",
              "      <td>NaN</td>\n",
              "      <td>NaN</td>\n",
              "      <td>NaN</td>\n",
              "      <td>NaN</td>\n",
              "      <td>NaN</td>\n",
              "      <td>NaN</td>\n",
              "      <td>NaN</td>\n",
              "      <td>NaN</td>\n",
              "    </tr>\n",
              "    <tr>\n",
              "      <th>2</th>\n",
              "      <td>NaN</td>\n",
              "      <td>NaN</td>\n",
              "      <td>NaN</td>\n",
              "      <td>NaN</td>\n",
              "      <td>NaN</td>\n",
              "      <td>NaN</td>\n",
              "      <td>NaN</td>\n",
              "      <td>NaN</td>\n",
              "      <td>NaN</td>\n",
              "      <td>NaN</td>\n",
              "      <td>NaN</td>\n",
              "      <td>NaN</td>\n",
              "      <td>NaN</td>\n",
              "      <td>NaN</td>\n",
              "      <td>NaN</td>\n",
              "      <td>NaN</td>\n",
              "      <td>NaN</td>\n",
              "      <td>NaN</td>\n",
              "      <td>NaN</td>\n",
              "    </tr>\n",
              "    <tr>\n",
              "      <th>3</th>\n",
              "      <td>2.0</td>\n",
              "      <td>RT @kim_jong_korea: @updatingwait @Acutereply ...</td>\n",
              "      <td>NaN</td>\n",
              "      <td>NaN</td>\n",
              "      <td>NaN</td>\n",
              "      <td>NaN</td>\n",
              "      <td>NaN</td>\n",
              "      <td>NaN</td>\n",
              "      <td>NaN</td>\n",
              "      <td>NaN</td>\n",
              "      <td>NaN</td>\n",
              "      <td>NaN</td>\n",
              "      <td>NaN</td>\n",
              "      <td>NaN</td>\n",
              "      <td>NaN</td>\n",
              "      <td>NaN</td>\n",
              "      <td>NaN</td>\n",
              "      <td>NaN</td>\n",
              "      <td>NaN</td>\n",
              "    </tr>\n",
              "    <tr>\n",
              "      <th>4</th>\n",
              "      <td>NaN</td>\n",
              "      <td>NaN</td>\n",
              "      <td>NaN</td>\n",
              "      <td>NaN</td>\n",
              "      <td>NaN</td>\n",
              "      <td>NaN</td>\n",
              "      <td>NaN</td>\n",
              "      <td>NaN</td>\n",
              "      <td>NaN</td>\n",
              "      <td>NaN</td>\n",
              "      <td>NaN</td>\n",
              "      <td>NaN</td>\n",
              "      <td>NaN</td>\n",
              "      <td>NaN</td>\n",
              "      <td>NaN</td>\n",
              "      <td>NaN</td>\n",
              "      <td>NaN</td>\n",
              "      <td>NaN</td>\n",
              "      <td>NaN</td>\n",
              "    </tr>\n",
              "    <tr>\n",
              "      <th>...</th>\n",
              "      <td>...</td>\n",
              "      <td>...</td>\n",
              "      <td>...</td>\n",
              "      <td>...</td>\n",
              "      <td>...</td>\n",
              "      <td>...</td>\n",
              "      <td>...</td>\n",
              "      <td>...</td>\n",
              "      <td>...</td>\n",
              "      <td>...</td>\n",
              "      <td>...</td>\n",
              "      <td>...</td>\n",
              "      <td>...</td>\n",
              "      <td>...</td>\n",
              "      <td>...</td>\n",
              "      <td>...</td>\n",
              "      <td>...</td>\n",
              "      <td>...</td>\n",
              "      <td>...</td>\n",
              "    </tr>\n",
              "    <tr>\n",
              "      <th>6373</th>\n",
              "      <td>1.0</td>\n",
              "      <td>@zyanmalik0011 @SariaW @asadowaisi @ZairaWasim...</td>\n",
              "      <td>NaN</td>\n",
              "      <td>NaN</td>\n",
              "      <td>NaN</td>\n",
              "      <td>NaN</td>\n",
              "      <td>NaN</td>\n",
              "      <td>NaN</td>\n",
              "      <td>NaN</td>\n",
              "      <td>NaN</td>\n",
              "      <td>NaN</td>\n",
              "      <td>NaN</td>\n",
              "      <td>NaN</td>\n",
              "      <td>NaN</td>\n",
              "      <td>NaN</td>\n",
              "      <td>NaN</td>\n",
              "      <td>NaN</td>\n",
              "      <td>NaN</td>\n",
              "      <td>NaN</td>\n",
              "    </tr>\n",
              "    <tr>\n",
              "      <th>6374</th>\n",
              "      <td>NaN</td>\n",
              "      <td>NaN</td>\n",
              "      <td>NaN</td>\n",
              "      <td>NaN</td>\n",
              "      <td>NaN</td>\n",
              "      <td>NaN</td>\n",
              "      <td>NaN</td>\n",
              "      <td>NaN</td>\n",
              "      <td>NaN</td>\n",
              "      <td>NaN</td>\n",
              "      <td>NaN</td>\n",
              "      <td>NaN</td>\n",
              "      <td>NaN</td>\n",
              "      <td>NaN</td>\n",
              "      <td>NaN</td>\n",
              "      <td>NaN</td>\n",
              "      <td>NaN</td>\n",
              "      <td>NaN</td>\n",
              "      <td>NaN</td>\n",
              "    </tr>\n",
              "    <tr>\n",
              "      <th>6375</th>\n",
              "      <td>1.0</td>\n",
              "      <td>@MirAda94 @anuragsinghrana @bukharishujaat @Al...</td>\n",
              "      <td>NaN</td>\n",
              "      <td>NaN</td>\n",
              "      <td>NaN</td>\n",
              "      <td>NaN</td>\n",
              "      <td>NaN</td>\n",
              "      <td>NaN</td>\n",
              "      <td>NaN</td>\n",
              "      <td>NaN</td>\n",
              "      <td>NaN</td>\n",
              "      <td>NaN</td>\n",
              "      <td>NaN</td>\n",
              "      <td>NaN</td>\n",
              "      <td>NaN</td>\n",
              "      <td>NaN</td>\n",
              "      <td>NaN</td>\n",
              "      <td>NaN</td>\n",
              "      <td>NaN</td>\n",
              "    </tr>\n",
              "    <tr>\n",
              "      <th>6376</th>\n",
              "      <td>NaN</td>\n",
              "      <td>NaN</td>\n",
              "      <td>NaN</td>\n",
              "      <td>NaN</td>\n",
              "      <td>NaN</td>\n",
              "      <td>NaN</td>\n",
              "      <td>NaN</td>\n",
              "      <td>NaN</td>\n",
              "      <td>NaN</td>\n",
              "      <td>NaN</td>\n",
              "      <td>NaN</td>\n",
              "      <td>NaN</td>\n",
              "      <td>NaN</td>\n",
              "      <td>NaN</td>\n",
              "      <td>NaN</td>\n",
              "      <td>NaN</td>\n",
              "      <td>NaN</td>\n",
              "      <td>NaN</td>\n",
              "      <td>NaN</td>\n",
              "    </tr>\n",
              "    <tr>\n",
              "      <th>6377</th>\n",
              "      <td>1.0</td>\n",
              "      <td>@FarahKhanAli @anerao15 Kya madam, abhi tak ap...</td>\n",
              "      <td>NaN</td>\n",
              "      <td>NaN</td>\n",
              "      <td>NaN</td>\n",
              "      <td>NaN</td>\n",
              "      <td>NaN</td>\n",
              "      <td>NaN</td>\n",
              "      <td>NaN</td>\n",
              "      <td>NaN</td>\n",
              "      <td>NaN</td>\n",
              "      <td>NaN</td>\n",
              "      <td>NaN</td>\n",
              "      <td>NaN</td>\n",
              "      <td>NaN</td>\n",
              "      <td>NaN</td>\n",
              "      <td>NaN</td>\n",
              "      <td>NaN</td>\n",
              "      <td>NaN</td>\n",
              "    </tr>\n",
              "  </tbody>\n",
              "</table>\n",
              "<p>6378 rows × 19 columns</p>\n",
              "</div>"
            ],
            "text/plain": [
              "      Score  ... Unnamed: 18\n",
              "0       0.0  ...         NaN\n",
              "1       2.0  ...         NaN\n",
              "2       NaN  ...         NaN\n",
              "3       2.0  ...         NaN\n",
              "4       NaN  ...         NaN\n",
              "...     ...  ...         ...\n",
              "6373    1.0  ...         NaN\n",
              "6374    NaN  ...         NaN\n",
              "6375    1.0  ...         NaN\n",
              "6376    NaN  ...         NaN\n",
              "6377    1.0  ...         NaN\n",
              "\n",
              "[6378 rows x 19 columns]"
            ]
          },
          "metadata": {},
          "execution_count": 177
        }
      ]
    },
    {
      "cell_type": "code",
      "metadata": {
        "colab": {
          "base_uri": "https://localhost:8080/"
        },
        "id": "f3AXv7UUzgpE",
        "outputId": "0a6fd9af-3fe7-4add-cdc5-72b54efd6e98"
      },
      "source": [
        "df.shape\n"
      ],
      "execution_count": null,
      "outputs": [
        {
          "output_type": "execute_result",
          "data": {
            "text/plain": [
              "(6378, 19)"
            ]
          },
          "metadata": {},
          "execution_count": 178
        }
      ]
    },
    {
      "cell_type": "code",
      "metadata": {
        "colab": {
          "base_uri": "https://localhost:8080/",
          "height": 417
        },
        "id": "zxvtGvu1z41Q",
        "outputId": "48974758-e853-4ce6-d25c-d899837fc1c7"
      },
      "source": [
        "df.iloc[:,[2,18]]"
      ],
      "execution_count": null,
      "outputs": [
        {
          "output_type": "execute_result",
          "data": {
            "text/html": [
              "<div>\n",
              "<style scoped>\n",
              "    .dataframe tbody tr th:only-of-type {\n",
              "        vertical-align: middle;\n",
              "    }\n",
              "\n",
              "    .dataframe tbody tr th {\n",
              "        vertical-align: top;\n",
              "    }\n",
              "\n",
              "    .dataframe thead th {\n",
              "        text-align: right;\n",
              "    }\n",
              "</style>\n",
              "<table border=\"1\" class=\"dataframe\">\n",
              "  <thead>\n",
              "    <tr style=\"text-align: right;\">\n",
              "      <th></th>\n",
              "      <th>Unnamed: 2</th>\n",
              "      <th>Unnamed: 18</th>\n",
              "    </tr>\n",
              "  </thead>\n",
              "  <tbody>\n",
              "    <tr>\n",
              "      <th>0</th>\n",
              "      <td>NaN</td>\n",
              "      <td>NaN</td>\n",
              "    </tr>\n",
              "    <tr>\n",
              "      <th>1</th>\n",
              "      <td>NaN</td>\n",
              "      <td>NaN</td>\n",
              "    </tr>\n",
              "    <tr>\n",
              "      <th>2</th>\n",
              "      <td>NaN</td>\n",
              "      <td>NaN</td>\n",
              "    </tr>\n",
              "    <tr>\n",
              "      <th>3</th>\n",
              "      <td>NaN</td>\n",
              "      <td>NaN</td>\n",
              "    </tr>\n",
              "    <tr>\n",
              "      <th>4</th>\n",
              "      <td>NaN</td>\n",
              "      <td>NaN</td>\n",
              "    </tr>\n",
              "    <tr>\n",
              "      <th>...</th>\n",
              "      <td>...</td>\n",
              "      <td>...</td>\n",
              "    </tr>\n",
              "    <tr>\n",
              "      <th>6373</th>\n",
              "      <td>NaN</td>\n",
              "      <td>NaN</td>\n",
              "    </tr>\n",
              "    <tr>\n",
              "      <th>6374</th>\n",
              "      <td>NaN</td>\n",
              "      <td>NaN</td>\n",
              "    </tr>\n",
              "    <tr>\n",
              "      <th>6375</th>\n",
              "      <td>NaN</td>\n",
              "      <td>NaN</td>\n",
              "    </tr>\n",
              "    <tr>\n",
              "      <th>6376</th>\n",
              "      <td>NaN</td>\n",
              "      <td>NaN</td>\n",
              "    </tr>\n",
              "    <tr>\n",
              "      <th>6377</th>\n",
              "      <td>NaN</td>\n",
              "      <td>NaN</td>\n",
              "    </tr>\n",
              "  </tbody>\n",
              "</table>\n",
              "<p>6378 rows × 2 columns</p>\n",
              "</div>"
            ],
            "text/plain": [
              "     Unnamed: 2 Unnamed: 18\n",
              "0           NaN         NaN\n",
              "1           NaN         NaN\n",
              "2           NaN         NaN\n",
              "3           NaN         NaN\n",
              "4           NaN         NaN\n",
              "...         ...         ...\n",
              "6373        NaN         NaN\n",
              "6374        NaN         NaN\n",
              "6375        NaN         NaN\n",
              "6376        NaN         NaN\n",
              "6377        NaN         NaN\n",
              "\n",
              "[6378 rows x 2 columns]"
            ]
          },
          "metadata": {},
          "execution_count": 179
        }
      ]
    },
    {
      "cell_type": "code",
      "metadata": {
        "id": "UhAWu1GQz8Ko"
      },
      "source": [
        "df.drop(df.iloc[:,[2,3,4,5,6,7,8,9,10,11,12,13,14,15,16]],\n",
        "  axis='columns', inplace=True)"
      ],
      "execution_count": null,
      "outputs": []
    },
    {
      "cell_type": "code",
      "metadata": {
        "colab": {
          "base_uri": "https://localhost:8080/",
          "height": 417
        },
        "id": "npUs47jK4J8J",
        "outputId": "258d65f1-9e70-42e2-e53f-ff66adc1ee6e"
      },
      "source": [
        "df"
      ],
      "execution_count": null,
      "outputs": [
        {
          "output_type": "execute_result",
          "data": {
            "text/html": [
              "<div>\n",
              "<style scoped>\n",
              "    .dataframe tbody tr th:only-of-type {\n",
              "        vertical-align: middle;\n",
              "    }\n",
              "\n",
              "    .dataframe tbody tr th {\n",
              "        vertical-align: top;\n",
              "    }\n",
              "\n",
              "    .dataframe thead th {\n",
              "        text-align: right;\n",
              "    }\n",
              "</style>\n",
              "<table border=\"1\" class=\"dataframe\">\n",
              "  <thead>\n",
              "    <tr style=\"text-align: right;\">\n",
              "      <th></th>\n",
              "      <th>Score</th>\n",
              "      <th>Tweet</th>\n",
              "      <th>Unnamed: 17</th>\n",
              "      <th>Unnamed: 18</th>\n",
              "    </tr>\n",
              "  </thead>\n",
              "  <tbody>\n",
              "    <tr>\n",
              "      <th>0</th>\n",
              "      <td>0.0</td>\n",
              "      <td>@saud5683 @Mutayyab420 @shivang598 @Ranask35 @...</td>\n",
              "      <td>NaN</td>\n",
              "      <td>NaN</td>\n",
              "    </tr>\n",
              "    <tr>\n",
              "      <th>1</th>\n",
              "      <td>2.0</td>\n",
              "      <td>Banti hai empowered woman, feminism pe gyan pe...</td>\n",
              "      <td>NaN</td>\n",
              "      <td>NaN</td>\n",
              "    </tr>\n",
              "    <tr>\n",
              "      <th>2</th>\n",
              "      <td>NaN</td>\n",
              "      <td>NaN</td>\n",
              "      <td>NaN</td>\n",
              "      <td>NaN</td>\n",
              "    </tr>\n",
              "    <tr>\n",
              "      <th>3</th>\n",
              "      <td>2.0</td>\n",
              "      <td>RT @kim_jong_korea: @updatingwait @Acutereply ...</td>\n",
              "      <td>NaN</td>\n",
              "      <td>NaN</td>\n",
              "    </tr>\n",
              "    <tr>\n",
              "      <th>4</th>\n",
              "      <td>NaN</td>\n",
              "      <td>NaN</td>\n",
              "      <td>NaN</td>\n",
              "      <td>NaN</td>\n",
              "    </tr>\n",
              "    <tr>\n",
              "      <th>...</th>\n",
              "      <td>...</td>\n",
              "      <td>...</td>\n",
              "      <td>...</td>\n",
              "      <td>...</td>\n",
              "    </tr>\n",
              "    <tr>\n",
              "      <th>6373</th>\n",
              "      <td>1.0</td>\n",
              "      <td>@zyanmalik0011 @SariaW @asadowaisi @ZairaWasim...</td>\n",
              "      <td>NaN</td>\n",
              "      <td>NaN</td>\n",
              "    </tr>\n",
              "    <tr>\n",
              "      <th>6374</th>\n",
              "      <td>NaN</td>\n",
              "      <td>NaN</td>\n",
              "      <td>NaN</td>\n",
              "      <td>NaN</td>\n",
              "    </tr>\n",
              "    <tr>\n",
              "      <th>6375</th>\n",
              "      <td>1.0</td>\n",
              "      <td>@MirAda94 @anuragsinghrana @bukharishujaat @Al...</td>\n",
              "      <td>NaN</td>\n",
              "      <td>NaN</td>\n",
              "    </tr>\n",
              "    <tr>\n",
              "      <th>6376</th>\n",
              "      <td>NaN</td>\n",
              "      <td>NaN</td>\n",
              "      <td>NaN</td>\n",
              "      <td>NaN</td>\n",
              "    </tr>\n",
              "    <tr>\n",
              "      <th>6377</th>\n",
              "      <td>1.0</td>\n",
              "      <td>@FarahKhanAli @anerao15 Kya madam, abhi tak ap...</td>\n",
              "      <td>NaN</td>\n",
              "      <td>NaN</td>\n",
              "    </tr>\n",
              "  </tbody>\n",
              "</table>\n",
              "<p>6378 rows × 4 columns</p>\n",
              "</div>"
            ],
            "text/plain": [
              "      Score  ... Unnamed: 18\n",
              "0       0.0  ...         NaN\n",
              "1       2.0  ...         NaN\n",
              "2       NaN  ...         NaN\n",
              "3       2.0  ...         NaN\n",
              "4       NaN  ...         NaN\n",
              "...     ...  ...         ...\n",
              "6373    1.0  ...         NaN\n",
              "6374    NaN  ...         NaN\n",
              "6375    1.0  ...         NaN\n",
              "6376    NaN  ...         NaN\n",
              "6377    1.0  ...         NaN\n",
              "\n",
              "[6378 rows x 4 columns]"
            ]
          },
          "metadata": {},
          "execution_count": 181
        }
      ]
    },
    {
      "cell_type": "code",
      "metadata": {
        "id": "Kwn-8fEz4Tuc"
      },
      "source": [
        "df.dropna(subset=['Score', 'Tweet'], inplace=True)"
      ],
      "execution_count": null,
      "outputs": []
    },
    {
      "cell_type": "code",
      "metadata": {
        "colab": {
          "base_uri": "https://localhost:8080/",
          "height": 417
        },
        "id": "o-XY0LkN42Pv",
        "outputId": "0f6ab8d7-aa07-42cb-807d-16930f0a4b75"
      },
      "source": [
        "df"
      ],
      "execution_count": null,
      "outputs": [
        {
          "output_type": "execute_result",
          "data": {
            "text/html": [
              "<div>\n",
              "<style scoped>\n",
              "    .dataframe tbody tr th:only-of-type {\n",
              "        vertical-align: middle;\n",
              "    }\n",
              "\n",
              "    .dataframe tbody tr th {\n",
              "        vertical-align: top;\n",
              "    }\n",
              "\n",
              "    .dataframe thead th {\n",
              "        text-align: right;\n",
              "    }\n",
              "</style>\n",
              "<table border=\"1\" class=\"dataframe\">\n",
              "  <thead>\n",
              "    <tr style=\"text-align: right;\">\n",
              "      <th></th>\n",
              "      <th>Score</th>\n",
              "      <th>Tweet</th>\n",
              "      <th>Unnamed: 17</th>\n",
              "      <th>Unnamed: 18</th>\n",
              "    </tr>\n",
              "  </thead>\n",
              "  <tbody>\n",
              "    <tr>\n",
              "      <th>0</th>\n",
              "      <td>0.0</td>\n",
              "      <td>@saud5683 @Mutayyab420 @shivang598 @Ranask35 @...</td>\n",
              "      <td>NaN</td>\n",
              "      <td>NaN</td>\n",
              "    </tr>\n",
              "    <tr>\n",
              "      <th>1</th>\n",
              "      <td>2.0</td>\n",
              "      <td>Banti hai empowered woman, feminism pe gyan pe...</td>\n",
              "      <td>NaN</td>\n",
              "      <td>NaN</td>\n",
              "    </tr>\n",
              "    <tr>\n",
              "      <th>3</th>\n",
              "      <td>2.0</td>\n",
              "      <td>RT @kim_jong_korea: @updatingwait @Acutereply ...</td>\n",
              "      <td>NaN</td>\n",
              "      <td>NaN</td>\n",
              "    </tr>\n",
              "    <tr>\n",
              "      <th>5</th>\n",
              "      <td>2.0</td>\n",
              "      <td>@InviSibleSold @mabkhan86 @dridadahn Punjab in...</td>\n",
              "      <td>NaN</td>\n",
              "      <td>NaN</td>\n",
              "    </tr>\n",
              "    <tr>\n",
              "      <th>7</th>\n",
              "      <td>2.0</td>\n",
              "      <td>RT @MrMonsterSaid: Agar koi bole ki ja ke chil...</td>\n",
              "      <td>NaN</td>\n",
              "      <td>NaN</td>\n",
              "    </tr>\n",
              "    <tr>\n",
              "      <th>...</th>\n",
              "      <td>...</td>\n",
              "      <td>...</td>\n",
              "      <td>...</td>\n",
              "      <td>...</td>\n",
              "    </tr>\n",
              "    <tr>\n",
              "      <th>6369</th>\n",
              "      <td>1.0</td>\n",
              "      <td>@zyanmalik0011 @SariaW @asadowaisi @ZairaWasim...</td>\n",
              "      <td>NaN</td>\n",
              "      <td>NaN</td>\n",
              "    </tr>\n",
              "    <tr>\n",
              "      <th>6371</th>\n",
              "      <td>1.0</td>\n",
              "      <td>@MamataOfficial all love jihaadi should ne kil...</td>\n",
              "      <td>NaN</td>\n",
              "      <td>NaN</td>\n",
              "    </tr>\n",
              "    <tr>\n",
              "      <th>6373</th>\n",
              "      <td>1.0</td>\n",
              "      <td>@zyanmalik0011 @SariaW @asadowaisi @ZairaWasim...</td>\n",
              "      <td>NaN</td>\n",
              "      <td>NaN</td>\n",
              "    </tr>\n",
              "    <tr>\n",
              "      <th>6375</th>\n",
              "      <td>1.0</td>\n",
              "      <td>@MirAda94 @anuragsinghrana @bukharishujaat @Al...</td>\n",
              "      <td>NaN</td>\n",
              "      <td>NaN</td>\n",
              "    </tr>\n",
              "    <tr>\n",
              "      <th>6377</th>\n",
              "      <td>1.0</td>\n",
              "      <td>@FarahKhanAli @anerao15 Kya madam, abhi tak ap...</td>\n",
              "      <td>NaN</td>\n",
              "      <td>NaN</td>\n",
              "    </tr>\n",
              "  </tbody>\n",
              "</table>\n",
              "<p>3189 rows × 4 columns</p>\n",
              "</div>"
            ],
            "text/plain": [
              "      Score  ... Unnamed: 18\n",
              "0       0.0  ...         NaN\n",
              "1       2.0  ...         NaN\n",
              "3       2.0  ...         NaN\n",
              "5       2.0  ...         NaN\n",
              "7       2.0  ...         NaN\n",
              "...     ...  ...         ...\n",
              "6369    1.0  ...         NaN\n",
              "6371    1.0  ...         NaN\n",
              "6373    1.0  ...         NaN\n",
              "6375    1.0  ...         NaN\n",
              "6377    1.0  ...         NaN\n",
              "\n",
              "[3189 rows x 4 columns]"
            ]
          },
          "metadata": {},
          "execution_count": 183
        }
      ]
    },
    {
      "cell_type": "code",
      "metadata": {
        "colab": {
          "base_uri": "https://localhost:8080/"
        },
        "id": "aoELkqI243AQ",
        "outputId": "f9bd4aca-8527-4331-c1c9-9ed2e5e5ac72"
      },
      "source": [
        "df.shape"
      ],
      "execution_count": null,
      "outputs": [
        {
          "output_type": "execute_result",
          "data": {
            "text/plain": [
              "(3189, 4)"
            ]
          },
          "metadata": {},
          "execution_count": 184
        }
      ]
    },
    {
      "cell_type": "code",
      "metadata": {
        "id": "YFY0_LV945Oq"
      },
      "source": [
        "df_final=pd.read_csv(\"/data.csv\")"
      ],
      "execution_count": null,
      "outputs": []
    },
    {
      "cell_type": "code",
      "metadata": {
        "colab": {
          "base_uri": "https://localhost:8080/",
          "height": 417
        },
        "id": "2rk9DDty5L7j",
        "outputId": "a334c20e-4947-48f9-b7e1-7ecf73409a2d"
      },
      "source": [
        "df_final"
      ],
      "execution_count": null,
      "outputs": [
        {
          "output_type": "execute_result",
          "data": {
            "text/html": [
              "<div>\n",
              "<style scoped>\n",
              "    .dataframe tbody tr th:only-of-type {\n",
              "        vertical-align: middle;\n",
              "    }\n",
              "\n",
              "    .dataframe tbody tr th {\n",
              "        vertical-align: top;\n",
              "    }\n",
              "\n",
              "    .dataframe thead th {\n",
              "        text-align: right;\n",
              "    }\n",
              "</style>\n",
              "<table border=\"1\" class=\"dataframe\">\n",
              "  <thead>\n",
              "    <tr style=\"text-align: right;\">\n",
              "      <th></th>\n",
              "      <th>Score</th>\n",
              "      <th>Tweet</th>\n",
              "    </tr>\n",
              "  </thead>\n",
              "  <tbody>\n",
              "    <tr>\n",
              "      <th>0</th>\n",
              "      <td>0</td>\n",
              "      <td>@saud5683 @Mutayyab420 @shivang598 @Ranask35 @...</td>\n",
              "    </tr>\n",
              "    <tr>\n",
              "      <th>1</th>\n",
              "      <td>2</td>\n",
              "      <td>Banti hai empowered woman, feminism pe gyan pe...</td>\n",
              "    </tr>\n",
              "    <tr>\n",
              "      <th>2</th>\n",
              "      <td>2</td>\n",
              "      <td>RT @kim_jong_korea: @updatingwait @Acutereply ...</td>\n",
              "    </tr>\n",
              "    <tr>\n",
              "      <th>3</th>\n",
              "      <td>2</td>\n",
              "      <td>@InviSibleSold @mabkhan86 @dridadahn Punjab in...</td>\n",
              "    </tr>\n",
              "    <tr>\n",
              "      <th>4</th>\n",
              "      <td>2</td>\n",
              "      <td>RT @MrMonsterSaid: Agar koi bole ki ja ke chil...</td>\n",
              "    </tr>\n",
              "    <tr>\n",
              "      <th>...</th>\n",
              "      <td>...</td>\n",
              "      <td>...</td>\n",
              "    </tr>\n",
              "    <tr>\n",
              "      <th>3184</th>\n",
              "      <td>1</td>\n",
              "      <td>@zyanmalik0011 @SariaW @asadowaisi @ZairaWasim...</td>\n",
              "    </tr>\n",
              "    <tr>\n",
              "      <th>3185</th>\n",
              "      <td>1</td>\n",
              "      <td>@MamataOfficial all love jihaadi should ne kil...</td>\n",
              "    </tr>\n",
              "    <tr>\n",
              "      <th>3186</th>\n",
              "      <td>1</td>\n",
              "      <td>@zyanmalik0011 @SariaW @asadowaisi @ZairaWasim...</td>\n",
              "    </tr>\n",
              "    <tr>\n",
              "      <th>3187</th>\n",
              "      <td>1</td>\n",
              "      <td>@MirAda94 @anuragsinghrana @bukharishujaat @Al...</td>\n",
              "    </tr>\n",
              "    <tr>\n",
              "      <th>3188</th>\n",
              "      <td>1</td>\n",
              "      <td>@FarahKhanAli @anerao15 Kya madam, abhi tak ap...</td>\n",
              "    </tr>\n",
              "  </tbody>\n",
              "</table>\n",
              "<p>3189 rows × 2 columns</p>\n",
              "</div>"
            ],
            "text/plain": [
              "      Score                                              Tweet\n",
              "0         0  @saud5683 @Mutayyab420 @shivang598 @Ranask35 @...\n",
              "1         2  Banti hai empowered woman, feminism pe gyan pe...\n",
              "2         2  RT @kim_jong_korea: @updatingwait @Acutereply ...\n",
              "3         2  @InviSibleSold @mabkhan86 @dridadahn Punjab in...\n",
              "4         2  RT @MrMonsterSaid: Agar koi bole ki ja ke chil...\n",
              "...     ...                                                ...\n",
              "3184      1  @zyanmalik0011 @SariaW @asadowaisi @ZairaWasim...\n",
              "3185      1  @MamataOfficial all love jihaadi should ne kil...\n",
              "3186      1  @zyanmalik0011 @SariaW @asadowaisi @ZairaWasim...\n",
              "3187      1  @MirAda94 @anuragsinghrana @bukharishujaat @Al...\n",
              "3188      1  @FarahKhanAli @anerao15 Kya madam, abhi tak ap...\n",
              "\n",
              "[3189 rows x 2 columns]"
            ]
          },
          "metadata": {},
          "execution_count": 186
        }
      ]
    },
    {
      "cell_type": "code",
      "metadata": {
        "colab": {
          "base_uri": "https://localhost:8080/"
        },
        "id": "alnuKadH8Arm",
        "outputId": "112ab0b8-0ba0-42ee-8b29-514f8858ecd2"
      },
      "source": [
        "df_final.shape"
      ],
      "execution_count": null,
      "outputs": [
        {
          "output_type": "execute_result",
          "data": {
            "text/plain": [
              "(3189, 2)"
            ]
          },
          "metadata": {},
          "execution_count": 187
        }
      ]
    },
    {
      "cell_type": "code",
      "metadata": {
        "colab": {
          "base_uri": "https://localhost:8080/"
        },
        "id": "QJ2uY9Ra6j7X",
        "outputId": "a30ffb72-a622-41e7-d841-970f97c26cb5"
      },
      "source": [
        "df_final.iloc[:,0]"
      ],
      "execution_count": null,
      "outputs": [
        {
          "output_type": "execute_result",
          "data": {
            "text/plain": [
              "0       0\n",
              "1       2\n",
              "2       2\n",
              "3       2\n",
              "4       2\n",
              "       ..\n",
              "3184    1\n",
              "3185    1\n",
              "3186    1\n",
              "3187    1\n",
              "3188    1\n",
              "Name: Score, Length: 3189, dtype: int64"
            ]
          },
          "metadata": {},
          "execution_count": 188
        }
      ]
    },
    {
      "cell_type": "code",
      "metadata": {
        "colab": {
          "base_uri": "https://localhost:8080/"
        },
        "id": "c83q7kKS7040",
        "outputId": "9d25141b-4f72-4cb2-d7ad-c1162cc72b7a"
      },
      "source": [
        "df_final.iloc[:,1]"
      ],
      "execution_count": null,
      "outputs": [
        {
          "output_type": "execute_result",
          "data": {
            "text/plain": [
              "0       @saud5683 @Mutayyab420 @shivang598 @Ranask35 @...\n",
              "1       Banti hai empowered woman, feminism pe gyan pe...\n",
              "2       RT @kim_jong_korea: @updatingwait @Acutereply ...\n",
              "3       @InviSibleSold @mabkhan86 @dridadahn Punjab in...\n",
              "4       RT @MrMonsterSaid: Agar koi bole ki ja ke chil...\n",
              "                              ...                        \n",
              "3184    @zyanmalik0011 @SariaW @asadowaisi @ZairaWasim...\n",
              "3185    @MamataOfficial all love jihaadi should ne kil...\n",
              "3186    @zyanmalik0011 @SariaW @asadowaisi @ZairaWasim...\n",
              "3187    @MirAda94 @anuragsinghrana @bukharishujaat @Al...\n",
              "3188    @FarahKhanAli @anerao15 Kya madam, abhi tak ap...\n",
              "Name: Tweet, Length: 3189, dtype: object"
            ]
          },
          "metadata": {},
          "execution_count": 189
        }
      ]
    },
    {
      "cell_type": "code",
      "metadata": {
        "id": "0NS2y-ZO76MP"
      },
      "source": [
        "sent=df_final.iloc[95,1]"
      ],
      "execution_count": null,
      "outputs": []
    },
    {
      "cell_type": "code",
      "metadata": {
        "colab": {
          "base_uri": "https://localhost:8080/",
          "height": 55
        },
        "id": "8p26j25R83Kk",
        "outputId": "9b616698-5913-4c96-88ee-4be83dfc4bf7"
      },
      "source": [
        "sent"
      ],
      "execution_count": null,
      "outputs": [
        {
          "output_type": "execute_result",
          "data": {
            "application/vnd.google.colaboratory.intrinsic+json": {
              "type": "string"
            },
            "text/plain": [
              "'@Bas1King \\\\xf0\\\\x9f\\\\x91\\\\x8c\\\\xf0\\\\x9f\\\\x91\\\\x8c\\\\xf0\\\\x9f\\\\x91\\\\x8c\\\\xf0\\\\x9f\\\\x91\\\\x8c\\\\xf0\\\\x9f\\\\x91\\\\x8c Acha reply diya ladkiya khe rahi Bahenchod jab itna normal hai to maal khe diya to kya galat Maal h\\\\xe2\\\\x80\\\\xa6 https://t.co/6xbWS1cIlU'"
            ]
          },
          "metadata": {},
          "execution_count": 191
        }
      ]
    },
    {
      "cell_type": "code",
      "metadata": {
        "id": "w0A8u9A584CE"
      },
      "source": [
        "l=sent.split()\n",
        "k = ['-','\\n',',','.','\"',\"_\",\"  \",\"   \",\"=\",\"/\",\"\\\\n\",\":\",\"1\",\"2\",\"3\",\"4\",\"5\",\"6\",\"7\",\"8\",\"9\",\"0\",\"[\",\"]\", \"!\"]"
      ],
      "execution_count": null,
      "outputs": []
    },
    {
      "cell_type": "code",
      "metadata": {
        "colab": {
          "base_uri": "https://localhost:8080/"
        },
        "id": "4yih7N1Q87V_",
        "outputId": "7806fe92-410b-425a-c141-cbbe35f33f03"
      },
      "source": [
        "l"
      ],
      "execution_count": null,
      "outputs": [
        {
          "output_type": "execute_result",
          "data": {
            "text/plain": [
              "['@Bas1King',\n",
              " '\\\\xf0\\\\x9f\\\\x91\\\\x8c\\\\xf0\\\\x9f\\\\x91\\\\x8c\\\\xf0\\\\x9f\\\\x91\\\\x8c\\\\xf0\\\\x9f\\\\x91\\\\x8c\\\\xf0\\\\x9f\\\\x91\\\\x8c',\n",
              " 'Acha',\n",
              " 'reply',\n",
              " 'diya',\n",
              " 'ladkiya',\n",
              " 'khe',\n",
              " 'rahi',\n",
              " 'Bahenchod',\n",
              " 'jab',\n",
              " 'itna',\n",
              " 'normal',\n",
              " 'hai',\n",
              " 'to',\n",
              " 'maal',\n",
              " 'khe',\n",
              " 'diya',\n",
              " 'to',\n",
              " 'kya',\n",
              " 'galat',\n",
              " 'Maal',\n",
              " 'h\\\\xe2\\\\x80\\\\xa6',\n",
              " 'https://t.co/6xbWS1cIlU']"
            ]
          },
          "metadata": {},
          "execution_count": 193
        }
      ]
    },
    {
      "cell_type": "code",
      "metadata": {
        "colab": {
          "base_uri": "https://localhost:8080/",
          "height": 55
        },
        "id": "xwMm0JKE870h",
        "outputId": "85c0408b-c12f-4bdd-804f-41f37f95281d"
      },
      "source": [
        "#removed username\n",
        "#removed URLs\n",
        "#removed hashtags --> or (search(\"#\",w)) (test)\n",
        "#remove symbols \n",
        "\n",
        "nl=[]\n",
        "for w in l:\n",
        "  if (search(\"@\",w)) or (v.url(w)):\n",
        "    continue\n",
        "  for sym in k:\n",
        "    if (sym in w):\n",
        "      w=w.replace(sym,\" \")\n",
        "  if w==\" \":\n",
        "    continue\n",
        "  nl.append(w)\n",
        "\n",
        "s=\" \".join(nl)\n",
        "s\n",
        "   "
      ],
      "execution_count": null,
      "outputs": [
        {
          "output_type": "execute_result",
          "data": {
            "application/vnd.google.colaboratory.intrinsic+json": {
              "type": "string"
            },
            "text/plain": [
              "'\\\\xf \\\\x f\\\\x  \\\\x c\\\\xf \\\\x f\\\\x  \\\\x c\\\\xf \\\\x f\\\\x  \\\\x c\\\\xf \\\\x f\\\\x  \\\\x c\\\\xf \\\\x f\\\\x  \\\\x c Acha reply diya ladkiya khe rahi Bahenchod jab itna normal hai to maal khe diya to kya galat Maal h\\\\xe \\\\x  \\\\xa '"
            ]
          },
          "metadata": {},
          "execution_count": 194
        }
      ]
    },
    {
      "cell_type": "code",
      "metadata": {
        "colab": {
          "base_uri": "https://localhost:8080/"
        },
        "id": "tCu95YBPHM0x",
        "outputId": "edf622a6-60d2-4091-aea7-7f759b6fa237"
      },
      "source": [
        "li=s.split()\n",
        "li"
      ],
      "execution_count": null,
      "outputs": [
        {
          "output_type": "execute_result",
          "data": {
            "text/plain": [
              "['\\\\xf',\n",
              " '\\\\x',\n",
              " 'f\\\\x',\n",
              " '\\\\x',\n",
              " 'c\\\\xf',\n",
              " '\\\\x',\n",
              " 'f\\\\x',\n",
              " '\\\\x',\n",
              " 'c\\\\xf',\n",
              " '\\\\x',\n",
              " 'f\\\\x',\n",
              " '\\\\x',\n",
              " 'c\\\\xf',\n",
              " '\\\\x',\n",
              " 'f\\\\x',\n",
              " '\\\\x',\n",
              " 'c\\\\xf',\n",
              " '\\\\x',\n",
              " 'f\\\\x',\n",
              " '\\\\x',\n",
              " 'c',\n",
              " 'Acha',\n",
              " 'reply',\n",
              " 'diya',\n",
              " 'ladkiya',\n",
              " 'khe',\n",
              " 'rahi',\n",
              " 'Bahenchod',\n",
              " 'jab',\n",
              " 'itna',\n",
              " 'normal',\n",
              " 'hai',\n",
              " 'to',\n",
              " 'maal',\n",
              " 'khe',\n",
              " 'diya',\n",
              " 'to',\n",
              " 'kya',\n",
              " 'galat',\n",
              " 'Maal',\n",
              " 'h\\\\xe',\n",
              " '\\\\x',\n",
              " '\\\\xa']"
            ]
          },
          "metadata": {},
          "execution_count": 195
        }
      ]
    },
    {
      "cell_type": "code",
      "metadata": {
        "colab": {
          "base_uri": "https://localhost:8080/"
        },
        "id": "MpJaAJ1qHgIG",
        "outputId": "970b8433-4ef7-4960-a642-7191de77b59c"
      },
      "source": [
        "#again remove symbol words if any left\n",
        "\n",
        "nl=[]\n",
        "for w in li:\n",
        "  add=True\n",
        "  for sym in k:\n",
        "    if sym in w or \"\\\\\" in w:\n",
        "      add=False\n",
        "  if add==True:\n",
        "    nl.append(w)\n",
        "st=\" \".join(nl)\n",
        "print(st)"
      ],
      "execution_count": null,
      "outputs": [
        {
          "output_type": "stream",
          "name": "stdout",
          "text": [
            "c Acha reply diya ladkiya khe rahi Bahenchod jab itna normal hai to maal khe diya to kya galat Maal\n"
          ]
        }
      ]
    },
    {
      "cell_type": "code",
      "metadata": {
        "colab": {
          "base_uri": "https://localhost:8080/"
        },
        "id": "KCrQohWT_2U3",
        "outputId": "00351199-1f23-462d-a54b-1c668638daf1"
      },
      "source": [
        "!pip install validators"
      ],
      "execution_count": null,
      "outputs": [
        {
          "output_type": "stream",
          "name": "stdout",
          "text": [
            "Requirement already satisfied: validators in /usr/local/lib/python3.7/dist-packages (0.18.2)\n",
            "Requirement already satisfied: decorator>=3.4.0 in /usr/local/lib/python3.7/dist-packages (from validators) (4.4.2)\n",
            "Requirement already satisfied: six>=1.4.0 in /usr/local/lib/python3.7/dist-packages (from validators) (1.15.0)\n"
          ]
        }
      ]
    },
    {
      "cell_type": "code",
      "metadata": {
        "id": "4tGD6c02_3gK"
      },
      "source": [
        "import validators as v\n",
        "k = ['-','\\n',',','.','\"',\"_\",\"  \",\"   \",\"=\",\"/\",\"\\\\n\",\":\",\"1\",\"2\",\"3\",\"4\",\"5\",\"6\",\"7\",\"8\",\"9\",\"0\",\"[\",\"]\", \"!\"]"
      ],
      "execution_count": null,
      "outputs": []
    },
    {
      "cell_type": "code",
      "metadata": {
        "id": "XEU-eZTbM7Xh"
      },
      "source": [
        "final_tweets=[]"
      ],
      "execution_count": null,
      "outputs": []
    },
    {
      "cell_type": "code",
      "metadata": {
        "id": "gV8uqg5-DMjZ"
      },
      "source": [
        "#Manipulate Preprocess dataframe\n",
        "for dfi in range(3189):\n",
        "\n",
        "  sent=df_final.iloc[dfi,1]\n",
        "  l=sent.split()\n",
        "\n",
        "  #removed username\n",
        "  #removed URLs\n",
        "  #remove symbols \n",
        "\n",
        "  nl=[]\n",
        "  for w in l:\n",
        "    if (search(\"@\",w)) or (v.url(w)):\n",
        "      continue\n",
        "    for sym in k:\n",
        "      if (sym in w):\n",
        "        w=w.replace(sym,\" \")\n",
        "    if w==\" \":\n",
        "      continue\n",
        "    nl.append(w)\n",
        "\n",
        "  s=\" \".join(nl)\n",
        "  li=s.split()\n",
        "  \n",
        "  #again remove symbol words if any left\n",
        "\n",
        "  nl=[]\n",
        "  for w in li:\n",
        "    add=True\n",
        "    for sym in k:\n",
        "      if sym in w or \"\\\\\" in w:\n",
        "        add=False\n",
        "    if add==True:\n",
        "      nl.append(w)\n",
        "  st=\" \".join(nl)\n",
        "  st=st.lower()\n",
        "  final_tweets.append(st)\n",
        "\n",
        "df_final['Tweets']=final_tweets"
      ],
      "execution_count": null,
      "outputs": []
    },
    {
      "cell_type": "code",
      "metadata": {
        "colab": {
          "base_uri": "https://localhost:8080/",
          "height": 417
        },
        "id": "SCriaqxVNJZE",
        "outputId": "cb099df1-50a8-477e-c3fe-5be2c408bf7c"
      },
      "source": [
        "df_final"
      ],
      "execution_count": null,
      "outputs": [
        {
          "output_type": "execute_result",
          "data": {
            "text/html": [
              "<div>\n",
              "<style scoped>\n",
              "    .dataframe tbody tr th:only-of-type {\n",
              "        vertical-align: middle;\n",
              "    }\n",
              "\n",
              "    .dataframe tbody tr th {\n",
              "        vertical-align: top;\n",
              "    }\n",
              "\n",
              "    .dataframe thead th {\n",
              "        text-align: right;\n",
              "    }\n",
              "</style>\n",
              "<table border=\"1\" class=\"dataframe\">\n",
              "  <thead>\n",
              "    <tr style=\"text-align: right;\">\n",
              "      <th></th>\n",
              "      <th>Score</th>\n",
              "      <th>Tweet</th>\n",
              "      <th>Tweets</th>\n",
              "    </tr>\n",
              "  </thead>\n",
              "  <tbody>\n",
              "    <tr>\n",
              "      <th>0</th>\n",
              "      <td>0</td>\n",
              "      <td>@saud5683 @Mutayyab420 @shivang598 @Ranask35 @...</td>\n",
              "      <td>haa jaise tum bhi abhi</td>\n",
              "    </tr>\n",
              "    <tr>\n",
              "      <th>1</th>\n",
              "      <td>2</td>\n",
              "      <td>Banti hai empowered woman, feminism pe gyan pe...</td>\n",
              "      <td>banti hai empowered woman feminism pe gyan pel...</td>\n",
              "    </tr>\n",
              "    <tr>\n",
              "      <th>2</th>\n",
              "      <td>2</td>\n",
              "      <td>RT @kim_jong_korea: @updatingwait @Acutereply ...</td>\n",
              "      <td>rt ab usko chhod mjse bat kr tera baap aa gya ...</td>\n",
              "    </tr>\n",
              "    <tr>\n",
              "      <th>3</th>\n",
              "      <td>2</td>\n",
              "      <td>@InviSibleSold @mabkhan86 @dridadahn Punjab in...</td>\n",
              "      <td>punjab in madarchodon ko khila raha hai nokria...</td>\n",
              "    </tr>\n",
              "    <tr>\n",
              "      <th>4</th>\n",
              "      <td>2</td>\n",
              "      <td>RT @MrMonsterSaid: Agar koi bole ki ja ke chil...</td>\n",
              "      <td>rt agar koi bole ki ja ke chill maar to madarc...</td>\n",
              "    </tr>\n",
              "    <tr>\n",
              "      <th>...</th>\n",
              "      <td>...</td>\n",
              "      <td>...</td>\n",
              "      <td>...</td>\n",
              "    </tr>\n",
              "    <tr>\n",
              "      <th>3184</th>\n",
              "      <td>1</td>\n",
              "      <td>@zyanmalik0011 @SariaW @asadowaisi @ZairaWasim...</td>\n",
              "      <td>ye dekha tera islamic kashmiri jihaadi suar bhai</td>\n",
              "    </tr>\n",
              "    <tr>\n",
              "      <th>3185</th>\n",
              "      <td>1</td>\n",
              "      <td>@MamataOfficial all love jihaadi should ne kil...</td>\n",
              "      <td>all love jihaadi should ne killed aise hi</td>\n",
              "    </tr>\n",
              "    <tr>\n",
              "      <th>3186</th>\n",
              "      <td>1</td>\n",
              "      <td>@zyanmalik0011 @SariaW @asadowaisi @ZairaWasim...</td>\n",
              "      <td>ye dekh madarjaat rand ki aullad tera islamic</td>\n",
              "    </tr>\n",
              "    <tr>\n",
              "      <th>3187</th>\n",
              "      <td>1</td>\n",
              "      <td>@MirAda94 @anuragsinghrana @bukharishujaat @Al...</td>\n",
              "      <td>waise jihaadi kutte ki double maut aane wali hai</td>\n",
              "    </tr>\n",
              "    <tr>\n",
              "      <th>3188</th>\n",
              "      <td>1</td>\n",
              "      <td>@FarahKhanAli @anerao15 Kya madam, abhi tak ap...</td>\n",
              "      <td>kya madam abhi tak apne aapne hindu ya jihaadi...</td>\n",
              "    </tr>\n",
              "  </tbody>\n",
              "</table>\n",
              "<p>3189 rows × 3 columns</p>\n",
              "</div>"
            ],
            "text/plain": [
              "      Score  ...                                             Tweets\n",
              "0         0  ...                             haa jaise tum bhi abhi\n",
              "1         2  ...  banti hai empowered woman feminism pe gyan pel...\n",
              "2         2  ...  rt ab usko chhod mjse bat kr tera baap aa gya ...\n",
              "3         2  ...  punjab in madarchodon ko khila raha hai nokria...\n",
              "4         2  ...  rt agar koi bole ki ja ke chill maar to madarc...\n",
              "...     ...  ...                                                ...\n",
              "3184      1  ...   ye dekha tera islamic kashmiri jihaadi suar bhai\n",
              "3185      1  ...          all love jihaadi should ne killed aise hi\n",
              "3186      1  ...      ye dekh madarjaat rand ki aullad tera islamic\n",
              "3187      1  ...   waise jihaadi kutte ki double maut aane wali hai\n",
              "3188      1  ...  kya madam abhi tak apne aapne hindu ya jihaadi...\n",
              "\n",
              "[3189 rows x 3 columns]"
            ]
          },
          "metadata": {},
          "execution_count": 201
        }
      ]
    },
    {
      "cell_type": "code",
      "metadata": {
        "id": "9TsDevXsNOXf"
      },
      "source": [
        "df_final.drop([\"Tweet\"],axis='columns',inplace=True)"
      ],
      "execution_count": null,
      "outputs": []
    },
    {
      "cell_type": "code",
      "metadata": {
        "colab": {
          "base_uri": "https://localhost:8080/",
          "height": 417
        },
        "id": "QEe60mv5Nlac",
        "outputId": "ca53cfa8-d71e-4bf2-913b-0efbb285d2fe"
      },
      "source": [
        "df_final"
      ],
      "execution_count": null,
      "outputs": [
        {
          "output_type": "execute_result",
          "data": {
            "text/html": [
              "<div>\n",
              "<style scoped>\n",
              "    .dataframe tbody tr th:only-of-type {\n",
              "        vertical-align: middle;\n",
              "    }\n",
              "\n",
              "    .dataframe tbody tr th {\n",
              "        vertical-align: top;\n",
              "    }\n",
              "\n",
              "    .dataframe thead th {\n",
              "        text-align: right;\n",
              "    }\n",
              "</style>\n",
              "<table border=\"1\" class=\"dataframe\">\n",
              "  <thead>\n",
              "    <tr style=\"text-align: right;\">\n",
              "      <th></th>\n",
              "      <th>Score</th>\n",
              "      <th>Tweets</th>\n",
              "    </tr>\n",
              "  </thead>\n",
              "  <tbody>\n",
              "    <tr>\n",
              "      <th>0</th>\n",
              "      <td>0</td>\n",
              "      <td>haa jaise tum bhi abhi</td>\n",
              "    </tr>\n",
              "    <tr>\n",
              "      <th>1</th>\n",
              "      <td>2</td>\n",
              "      <td>banti hai empowered woman feminism pe gyan pel...</td>\n",
              "    </tr>\n",
              "    <tr>\n",
              "      <th>2</th>\n",
              "      <td>2</td>\n",
              "      <td>rt ab usko chhod mjse bat kr tera baap aa gya ...</td>\n",
              "    </tr>\n",
              "    <tr>\n",
              "      <th>3</th>\n",
              "      <td>2</td>\n",
              "      <td>punjab in madarchodon ko khila raha hai nokria...</td>\n",
              "    </tr>\n",
              "    <tr>\n",
              "      <th>4</th>\n",
              "      <td>2</td>\n",
              "      <td>rt agar koi bole ki ja ke chill maar to madarc...</td>\n",
              "    </tr>\n",
              "    <tr>\n",
              "      <th>...</th>\n",
              "      <td>...</td>\n",
              "      <td>...</td>\n",
              "    </tr>\n",
              "    <tr>\n",
              "      <th>3184</th>\n",
              "      <td>1</td>\n",
              "      <td>ye dekha tera islamic kashmiri jihaadi suar bhai</td>\n",
              "    </tr>\n",
              "    <tr>\n",
              "      <th>3185</th>\n",
              "      <td>1</td>\n",
              "      <td>all love jihaadi should ne killed aise hi</td>\n",
              "    </tr>\n",
              "    <tr>\n",
              "      <th>3186</th>\n",
              "      <td>1</td>\n",
              "      <td>ye dekh madarjaat rand ki aullad tera islamic</td>\n",
              "    </tr>\n",
              "    <tr>\n",
              "      <th>3187</th>\n",
              "      <td>1</td>\n",
              "      <td>waise jihaadi kutte ki double maut aane wali hai</td>\n",
              "    </tr>\n",
              "    <tr>\n",
              "      <th>3188</th>\n",
              "      <td>1</td>\n",
              "      <td>kya madam abhi tak apne aapne hindu ya jihaadi...</td>\n",
              "    </tr>\n",
              "  </tbody>\n",
              "</table>\n",
              "<p>3189 rows × 2 columns</p>\n",
              "</div>"
            ],
            "text/plain": [
              "      Score                                             Tweets\n",
              "0         0                             haa jaise tum bhi abhi\n",
              "1         2  banti hai empowered woman feminism pe gyan pel...\n",
              "2         2  rt ab usko chhod mjse bat kr tera baap aa gya ...\n",
              "3         2  punjab in madarchodon ko khila raha hai nokria...\n",
              "4         2  rt agar koi bole ki ja ke chill maar to madarc...\n",
              "...     ...                                                ...\n",
              "3184      1   ye dekha tera islamic kashmiri jihaadi suar bhai\n",
              "3185      1          all love jihaadi should ne killed aise hi\n",
              "3186      1      ye dekh madarjaat rand ki aullad tera islamic\n",
              "3187      1   waise jihaadi kutte ki double maut aane wali hai\n",
              "3188      1  kya madam abhi tak apne aapne hindu ya jihaadi...\n",
              "\n",
              "[3189 rows x 2 columns]"
            ]
          },
          "metadata": {},
          "execution_count": 203
        }
      ]
    },
    {
      "cell_type": "code",
      "metadata": {
        "id": "KoEhz53NNsZQ"
      },
      "source": [
        "df_final.to_csv(\"Data.csv\")"
      ],
      "execution_count": null,
      "outputs": []
    },
    {
      "cell_type": "code",
      "metadata": {
        "colab": {
          "base_uri": "https://localhost:8080/"
        },
        "id": "3sk0dRW6NxEK",
        "outputId": "d275f095-35cf-4563-b29b-ed3c17a32679"
      },
      "source": [
        "df_final.shape"
      ],
      "execution_count": null,
      "outputs": [
        {
          "output_type": "execute_result",
          "data": {
            "text/plain": [
              "(3189, 2)"
            ]
          },
          "metadata": {},
          "execution_count": 205
        }
      ]
    },
    {
      "cell_type": "code",
      "metadata": {
        "colab": {
          "base_uri": "https://localhost:8080/"
        },
        "id": "XKF7X63VPLGb",
        "outputId": "0c48293f-33b0-4a32-ced2-ebd03e60ceab"
      },
      "source": [
        "df_final.head"
      ],
      "execution_count": null,
      "outputs": [
        {
          "output_type": "execute_result",
          "data": {
            "text/plain": [
              "<bound method NDFrame.head of       Score                                             Tweets\n",
              "0         0                             haa jaise tum bhi abhi\n",
              "1         2  banti hai empowered woman feminism pe gyan pel...\n",
              "2         2  rt ab usko chhod mjse bat kr tera baap aa gya ...\n",
              "3         2  punjab in madarchodon ko khila raha hai nokria...\n",
              "4         2  rt agar koi bole ki ja ke chill maar to madarc...\n",
              "...     ...                                                ...\n",
              "3184      1   ye dekha tera islamic kashmiri jihaadi suar bhai\n",
              "3185      1          all love jihaadi should ne killed aise hi\n",
              "3186      1      ye dekh madarjaat rand ki aullad tera islamic\n",
              "3187      1   waise jihaadi kutte ki double maut aane wali hai\n",
              "3188      1  kya madam abhi tak apne aapne hindu ya jihaadi...\n",
              "\n",
              "[3189 rows x 2 columns]>"
            ]
          },
          "metadata": {},
          "execution_count": 206
        }
      ]
    },
    {
      "cell_type": "code",
      "metadata": {
        "colab": {
          "base_uri": "https://localhost:8080/"
        },
        "id": "bYWZe83GPRLs",
        "outputId": "7f6ecec7-8cce-4d5d-8c1f-9d6258839c58"
      },
      "source": [
        "df_final.describe"
      ],
      "execution_count": null,
      "outputs": [
        {
          "output_type": "execute_result",
          "data": {
            "text/plain": [
              "<bound method NDFrame.describe of       Score                                             Tweets\n",
              "0         0                             haa jaise tum bhi abhi\n",
              "1         2  banti hai empowered woman feminism pe gyan pel...\n",
              "2         2  rt ab usko chhod mjse bat kr tera baap aa gya ...\n",
              "3         2  punjab in madarchodon ko khila raha hai nokria...\n",
              "4         2  rt agar koi bole ki ja ke chill maar to madarc...\n",
              "...     ...                                                ...\n",
              "3184      1   ye dekha tera islamic kashmiri jihaadi suar bhai\n",
              "3185      1          all love jihaadi should ne killed aise hi\n",
              "3186      1      ye dekh madarjaat rand ki aullad tera islamic\n",
              "3187      1   waise jihaadi kutte ki double maut aane wali hai\n",
              "3188      1  kya madam abhi tak apne aapne hindu ya jihaadi...\n",
              "\n",
              "[3189 rows x 2 columns]>"
            ]
          },
          "metadata": {},
          "execution_count": 207
        }
      ]
    },
    {
      "cell_type": "code",
      "metadata": {
        "id": "P46rYDwSPWEj"
      },
      "source": [
        ""
      ],
      "execution_count": null,
      "outputs": []
    }
  ]
}